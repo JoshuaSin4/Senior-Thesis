{
 "cells": [
  {
   "cell_type": "markdown",
   "metadata": {},
   "source": [
    "# Tutorial 3: Training a spiking neural network on a simple vision dataset\n",
    "\n",
    "Friedemann Zenke (https://fzenke.net)"
   ]
  },
  {
   "cell_type": "markdown",
   "metadata": {},
   "source": [
    "> For more details on surrogate gradient learning, please see: \n",
    "> Neftci, E.O., Mostafa, H., and Zenke, F. (2019). Surrogate Gradient Learning in Spiking Neural Networks.\n",
    "> https://arxiv.org/abs/1901.09948"
   ]
  },
  {
   "cell_type": "markdown",
   "metadata": {},
   "source": [
    "In Tutorial 2, we have seen how to train a simple multi-layer spiking neural network on the [Fashion MNIST dataset](https://github.com/zalandoresearch/fashion-mnist). However, the spiking activity in the hidden layer was not particularly plausible in a biological sense. Here we modify the network from this previous tutorial by adding activity regularizer, which encourages solutions with sparse spiking."
   ]
  },
  {
   "cell_type": "code",
   "execution_count": 3,
   "metadata": {},
   "outputs": [],
   "source": [
    "import os\n",
    "\n",
    "import numpy as np\n",
    "import matplotlib.pyplot as plt\n",
    "from matplotlib.gridspec import GridSpec\n",
    "import seaborn as sns\n",
    "\n",
    "import torch\n",
    "import torch.nn as nn\n",
    "import torchvision"
   ]
  },
  {
   "cell_type": "code",
   "execution_count": 4,
   "metadata": {},
   "outputs": [],
   "source": [
    "# The coarse network structure is dicated by the Fashion MNIST dataset. \n",
    "nb_inputs  = 28*28\n",
    "nb_hidden  = 100\n",
    "nb_outputs = 10\n",
    "\n",
    "time_step = 1e-3\n",
    "nb_steps  = 100\n",
    "\n",
    "batch_size = 256"
   ]
  },
  {
   "cell_type": "code",
   "execution_count": 5,
   "metadata": {},
   "outputs": [],
   "source": [
    "dtype = torch.float\n",
    "\n",
    "# Check whether a GPU is available\n",
    "if torch.cuda.is_available():\n",
    "    device = torch.device(\"cuda\")     \n",
    "else:\n",
    "    device = torch.device(\"cpu\")"
   ]
  },
  {
   "cell_type": "code",
   "execution_count": 6,
   "metadata": {},
   "outputs": [],
   "source": [
    "# Here we load the Dataset\n",
    "root = os.path.expanduser(\"~/data/datasets/torch/mnist\")\n",
    "train_dataset = torchvision.datasets.MNIST(root, train=True, transform=None, target_transform=None, download=True)\n",
    "test_dataset = torchvision.datasets.MNIST(root, train=False, transform=None, target_transform=None, download=True)"
   ]
  },
  {
   "cell_type": "code",
   "execution_count": 7,
   "metadata": {},
   "outputs": [
    {
     "name": "stderr",
     "output_type": "stream",
     "text": [
      "/var/folders/lh/tqsrwp651d1_k1ndpr_0nfk40000gn/T/ipykernel_16194/1224777063.py:3: DeprecationWarning: `np.float` is a deprecated alias for the builtin `float`. To silence this warning, use `float` by itself. Doing this will not modify any behavior and is safe. If you specifically wanted the numpy scalar type, use `np.float64` here.\n",
      "Deprecated in NumPy 1.20; for more details and guidance: https://numpy.org/devdocs/release/1.20.0-notes.html#deprecations\n",
      "  x_train = np.array(train_dataset.data, dtype=np.float)\n",
      "/var/folders/lh/tqsrwp651d1_k1ndpr_0nfk40000gn/T/ipykernel_16194/1224777063.py:6: DeprecationWarning: `np.float` is a deprecated alias for the builtin `float`. To silence this warning, use `float` by itself. Doing this will not modify any behavior and is safe. If you specifically wanted the numpy scalar type, use `np.float64` here.\n",
      "Deprecated in NumPy 1.20; for more details and guidance: https://numpy.org/devdocs/release/1.20.0-notes.html#deprecations\n",
      "  x_test = np.array(test_dataset.data, dtype=np.float)\n"
     ]
    }
   ],
   "source": [
    "# Standardize data\n",
    "# x_train = torch.tensor(train_dataset.train_data, device=device, dtype=dtype)\n",
    "x_train = np.array(train_dataset.data, dtype=np.float)\n",
    "x_train = x_train.reshape(x_train.shape[0],-1)/255\n",
    "# x_test = torch.tensor(test_dataset.test_data, device=device, dtype=dtype)\n",
    "x_test = np.array(test_dataset.data, dtype=np.float)\n",
    "x_test = x_test.reshape(x_test.shape[0],-1)/255\n",
    "\n",
    "# y_train = torch.tensor(train_dataset.train_labels, device=device, dtype=dtype)\n",
    "# y_test  = torch.tensor(test_dataset.test_labels, device=device, dtype=dtype)\n",
    "y_train = np.array(train_dataset.targets, dtype=np.int64)\n",
    "y_test  = np.array(test_dataset.targets, dtype=np.int64)"
   ]
  },
  {
   "cell_type": "code",
   "execution_count": 8,
   "metadata": {},
   "outputs": [
    {
     "data": {
      "text/plain": [
       "(-0.5, 27.5, 27.5, -0.5)"
      ]
     },
     "execution_count": 8,
     "metadata": {},
     "output_type": "execute_result"
    },
    {
     "data": {
      "image/png": "[encoded data removed]",
      "text/plain": [
       "<Figure size 640x480 with 1 Axes>"
      ]
     },
     "metadata": {},
     "output_type": "display_data"
    }
   ],
   "source": [
    "# Here we plot one of the raw data points as an example\n",
    "data_id = 2\n",
    "plt.imshow(x_train[data_id].reshape(28,28), cmap=plt.cm.gray_r)\n",
    "plt.axis(\"off\")"
   ]
  },
  {
   "cell_type": "code",
   "execution_count": 9,
   "metadata": {},
   "outputs": [
    {
     "data": {
      "text/plain": [
       "(60000, 784)"
      ]
     },
     "execution_count": 9,
     "metadata": {},
     "output_type": "execute_result"
    }
   ],
   "source": [
    "x_train.shape"
   ]
  },
  {
   "cell_type": "markdown",
   "metadata": {},
   "source": [
    "Since we are working with spiking neural networks, we ideally want to use a temporal code to make use of spike timing. To that end, we will use a spike latency code to feed spikes to our network."
   ]
  },
  {
   "cell_type": "code",
   "execution_count": 10,
   "metadata": {},
   "outputs": [],
   "source": [
    "def current2firing_time(x, tau=20, thr=0.3, tmax=1.0, epsilon=1e-7):\n",
    "    \"\"\" Computes first firing time latency for a current input x assuming the charge time of a current based LIF neuron.\n",
    "\n",
    "    Args:\n",
    "    x -- The \"current\" values\n",
    "\n",
    "    Keyword args:\n",
    "    tau -- The membrane time constant of the LIF neuron to be charged\n",
    "    thr -- The firing threshold value \n",
    "    tmax -- The maximum time returned \n",
    "    epsilon -- A generic (small) epsilon > 0\n",
    "\n",
    "    Returns:\n",
    "    Time to first spike for each \"current\" x\n",
    "    \"\"\"\n",
    "    idx = x<thr\n",
    "    x = np.clip(x,thr+epsilon,1e9)\n",
    "    T = tau*np.log(x/(x-thr))\n",
    "    T[idx] = tmax\n",
    "    return T\n",
    "\n",
    "def spike_fn(x):\n",
    "    out = torch.zeros_like(x)\n",
    "    out[x > 0] = 1.0\n",
    "    return out\n",
    "        \n",
    "def sparse_data_generator(X, y, batch_size, nb_steps, nb_units, shuffle=True ):\n",
    "    \"\"\" This generator takes datasets in analog format and generates spiking network input as sparse tensors. \n",
    "\n",
    "    Args:\n",
    "        X: The data ( sample x event x 2 ) the last dim holds (time,neuron) tuples\n",
    "        y: The labels\n",
    "    \"\"\"\n",
    "\n",
    "    labels_ = np.array(y,dtype=np.int64)\n",
    "    number_of_batches = len(X)//batch_size\n",
    "    sample_index = np.arange(len(X))\n",
    "\n",
    "    # compute discrete firing times\n",
    "    tau_eff = 20e-3/time_step\n",
    "    firing_times = np.array(current2firing_time(X, tau=tau_eff, tmax=nb_steps), dtype=np.int64)\n",
    "    unit_numbers = np.arange(nb_units)\n",
    "\n",
    "    if shuffle:\n",
    "        np.random.shuffle(sample_index)\n",
    "\n",
    "    total_batch_count = 0\n",
    "    counter = 0\n",
    "    while counter<number_of_batches:\n",
    "        batch_index = sample_index[batch_size*counter:batch_size*(counter+1)]\n",
    "\n",
    "        coo = [ [] for i in range(3) ]\n",
    "        for bc,idx in enumerate(batch_index):\n",
    "            \n",
    "            batch = [bc for _ in range(len(times))]\n",
    "            coo[0].extend(batch)\n",
    "            \n",
    "\n",
    "        i = torch.LongTensor(coo).to(device)\n",
    "        v = torch.FloatTensor(np.ones(len(coo[0]))).to(device)\n",
    "    \n",
    "        X_batch = torch.sparse.FloatTensor(i, v, torch.Size([batch_size,nb_steps,nb_units])).to(device)\n",
    "        y_batch = torch.tensor(labels_[batch_index],device=device)\n",
    "\n",
    "        yield X_batch.to(device=device), y_batch.to(device=device)\n",
    "\n",
    "        counter += 1"
   ]
  },
  {
   "cell_type": "code",
   "execution_count": 66,
   "metadata": {},
   "outputs": [],
   "source": [
    "def sparse_data_generator2(X, y, batch_size, nb_steps, nb_units, shuffle=True ):\n",
    "    \"\"\" This generator takes datasets in analog format and generates spiking network input as sparse tensors. \n",
    "\n",
    "    Args:\n",
    "        X: The data ( sample x event x 2 ) the last dim holds (time,neuron) tuples\n",
    "        y: The labels\n",
    "    \"\"\"\n",
    "\n",
    "    labels_ = np.array(y,dtype=np.int64)\n",
    "    number_of_batches = len(X)//batch_size\n",
    "    sample_index = np.arange(len(X))\n",
    "\n",
    "    if shuffle:\n",
    "        np.random.shuffle(sample_index)\n",
    "\n",
    "    total_batch_count = 0\n",
    "    counter = 0\n",
    "    while counter<number_of_batches:\n",
    "        batch_index = sample_index[batch_size*counter:batch_size*(counter+1)]\n",
    "\n",
    "        i = torch.LongTensor(X[batch_index]).to(device)\n",
    "        v = torch.FloatTensor(np.ones(len(X[batch_index]))).to(device)\n",
    "    \n",
    "        X_batch = torch.sparse.FloatTensor(i, v, torch.Size([batch_size,nb_steps,nb_units])).to(device)\n",
    "        y_batch = torch.tensor(labels_[batch_index],device=device)\n",
    "\n",
    "        yield X_batch.to(device=device), y_batch.to(device=device)\n",
    "\n",
    "        counter += 1"
   ]
  },
  {
   "cell_type": "code",
   "execution_count": 67,
   "metadata": {},
   "outputs": [],
   "source": [
    "def images2rate(x, y, freq, shuffle, **kwargs): \n",
    "    labels_ = np.array(y,dtype=np.int64)\n",
    "    number_of_batches = len(x)//batch_size\n",
    "    sample_index = np.arange(len(x))\n",
    "\n",
    "    if shuffle:\n",
    "        np.random.shuffle(sample_index)\n",
    "\n",
    "    batch_index = sample_index[batch_size*counter:batch_size*(counter+1)]\n",
    "\n",
    "    total_batch_count = 0\n",
    "    counter = 0\n",
    "\n",
    "    i = torch.LongTensor(X[batch_index]).to(device)\n",
    "    v = torch.FloatTensor(np.ones(len(X[batch_index]))).to(device)  \n",
    "      \n",
    "    x_batch = torch.empty((kwargs['batch_size'], kwargs['nb_steps'], kwargs['nb_inputs']))  \n",
    "    for image in x:\n",
    "        spike_train = torch.empty((kwargs['nb_steps'], kwargs['nb_inputs']))\n",
    "        for t in range(kwargs['nb_steps']):\n",
    "            spike_t = torch.bernoulli(image)\n",
    "            spike_train[t] = spike_t\n",
    "\n",
    "    return spike_train"
   ]
  },
  {
   "cell_type": "code",
   "execution_count": 77,
   "metadata": {},
   "outputs": [],
   "source": [
    "def images2rate2(x, y, batch_size, shuffle, **kwargs):  \n",
    "    labels_ = np.array(y,dtype=np.int64)\n",
    "    number_of_batches = len(x)//batch_size\n",
    "    sample_index = np.arange(len(x))\n",
    "\n",
    "    if shuffle:\n",
    "        np.random.shuffle(sample_index)\n",
    "\n",
    "    total_batch_count = 0\n",
    "    counter = 0\n",
    "\n",
    "    batch_index = sample_index[batch_size*counter:batch_size*(counter+1)]\n",
    "    while counter < number_of_batches:\n",
    "        x_batch = torch.empty((len(x[batch_index]), nb_steps, nb_inputs)).to(device)\n",
    "        for i, image in enumerate(x[batch_index]):\n",
    "            tensor_image = torch.Tensor(image)\n",
    "            spike_train = torch.empty((nb_steps, nb_inputs))\n",
    "            for t in range(nb_steps):\n",
    "                spike_t = torch.bernoulli(tensor_image)\n",
    "                spike_train[t] = spike_t\n",
    "            x_batch[i] = spike_train\n",
    "        y_batch = torch.tensor(labels_[batch_index],device=device) \n",
    "\n",
    "        yield x_batch,  y_batch\n",
    "\n",
    "        counter += 1"
   ]
  },
  {
   "cell_type": "code",
   "execution_count": 78,
   "metadata": {},
   "outputs": [
    {
     "ename": "IndexError",
     "evalue": "index 256 is out of bounds for dimension 0 with size 256",
     "output_type": "error",
     "traceback": [
      "\u001b[0;31m---------------------------------------------------------------------------\u001b[0m",
      "\u001b[0;31mIndexError\u001b[0m                                Traceback (most recent call last)",
      "\u001b[1;32m/Users/user/Senior-Thesis/Frequency/SpyTorchTutorial3 - Regularizer.ipynb Cell 16\u001b[0m in \u001b[0;36m<cell line: 2>\u001b[0;34m()\u001b[0m\n\u001b[1;32m      <a href='vscode-notebook-cell:/Users/user/Senior-Thesis/Frequency/SpyTorchTutorial3%20-%20Regularizer.ipynb#X52sZmlsZQ%3D%3D?line=0'>1</a>\u001b[0m \u001b[39m# Here we plot one of the raw data points as an example\u001b[39;00m\n\u001b[0;32m----> <a href='vscode-notebook-cell:/Users/user/Senior-Thesis/Frequency/SpyTorchTutorial3%20-%20Regularizer.ipynb#X52sZmlsZQ%3D%3D?line=1'>2</a>\u001b[0m \u001b[39mfor\u001b[39;00m x_local, y_local \u001b[39min\u001b[39;00m images2rate2(x_train, y_train, batch_size, shuffle\u001b[39m=\u001b[39m\u001b[39mTrue\u001b[39;00m):\n\u001b[1;32m      <a href='vscode-notebook-cell:/Users/user/Senior-Thesis/Frequency/SpyTorchTutorial3%20-%20Regularizer.ipynb#X52sZmlsZQ%3D%3D?line=2'>3</a>\u001b[0m     \u001b[39mprint\u001b[39m(x_local\u001b[39m.\u001b[39mshape)\n",
      "\u001b[1;32m/Users/user/Senior-Thesis/Frequency/SpyTorchTutorial3 - Regularizer.ipynb Cell 16\u001b[0m in \u001b[0;36mimages2rate2\u001b[0;34m(x, y, batch_size, shuffle, **kwargs)\u001b[0m\n\u001b[1;32m     <a href='vscode-notebook-cell:/Users/user/Senior-Thesis/Frequency/SpyTorchTutorial3%20-%20Regularizer.ipynb#X52sZmlsZQ%3D%3D?line=18'>19</a>\u001b[0m         spike_t \u001b[39m=\u001b[39m torch\u001b[39m.\u001b[39mbernoulli(tensor_image)\n\u001b[1;32m     <a href='vscode-notebook-cell:/Users/user/Senior-Thesis/Frequency/SpyTorchTutorial3%20-%20Regularizer.ipynb#X52sZmlsZQ%3D%3D?line=19'>20</a>\u001b[0m         spike_train[t] \u001b[39m=\u001b[39m spike_t\n\u001b[0;32m---> <a href='vscode-notebook-cell:/Users/user/Senior-Thesis/Frequency/SpyTorchTutorial3%20-%20Regularizer.ipynb#X52sZmlsZQ%3D%3D?line=20'>21</a>\u001b[0m     x_batch[i] \u001b[39m=\u001b[39m spike_train\n\u001b[1;32m     <a href='vscode-notebook-cell:/Users/user/Senior-Thesis/Frequency/SpyTorchTutorial3%20-%20Regularizer.ipynb#X52sZmlsZQ%3D%3D?line=21'>22</a>\u001b[0m y_batch \u001b[39m=\u001b[39m torch\u001b[39m.\u001b[39mtensor(labels_[batch_index\u001b[39m-\u001b[39m\u001b[39m1\u001b[39m],device\u001b[39m=\u001b[39mdevice) \n\u001b[1;32m     <a href='vscode-notebook-cell:/Users/user/Senior-Thesis/Frequency/SpyTorchTutorial3%20-%20Regularizer.ipynb#X52sZmlsZQ%3D%3D?line=23'>24</a>\u001b[0m \u001b[39myield\u001b[39;00m x_batch,  y_batch\n",
      "\u001b[0;31mIndexError\u001b[0m: index 256 is out of bounds for dimension 0 with size 256"
     ]
    }
   ],
   "source": [
    "# Here we plot one of the raw data points as an example\n",
    "for x_local, y_local in images2rate2(x_train, y_train, batch_size, shuffle=True):\n",
    "    print(x_local.shape)"
   ]
  },
  {
   "cell_type": "code",
   "execution_count": 22,
   "metadata": {},
   "outputs": [
    {
     "ename": "NameError",
     "evalue": "name 'h1' is not defined",
     "output_type": "error",
     "traceback": [
      "\u001b[0;31m---------------------------------------------------------------------------\u001b[0m",
      "\u001b[0;31mNameError\u001b[0m                                 Traceback (most recent call last)",
      "\u001b[1;32m/Users/user/Senior-Thesis/Frequency/SpyTorchTutorial3 - Regularizer.ipynb Cell 13\u001b[0m in \u001b[0;36m<cell line: 6>\u001b[0;34m()\u001b[0m\n\u001b[1;32m      <a href='vscode-notebook-cell:/Users/user/Senior-Thesis/Frequency/SpyTorchTutorial3%20-%20Regularizer.ipynb#X44sZmlsZQ%3D%3D?line=3'>4</a>\u001b[0m alpha   \u001b[39m=\u001b[39m \u001b[39mfloat\u001b[39m(np\u001b[39m.\u001b[39mexp(\u001b[39m-\u001b[39mtime_step\u001b[39m/\u001b[39mtau_syn))\n\u001b[1;32m      <a href='vscode-notebook-cell:/Users/user/Senior-Thesis/Frequency/SpyTorchTutorial3%20-%20Regularizer.ipynb#X44sZmlsZQ%3D%3D?line=4'>5</a>\u001b[0m beta    \u001b[39m=\u001b[39m \u001b[39mfloat\u001b[39m(np\u001b[39m.\u001b[39mexp(\u001b[39m-\u001b[39mtime_step\u001b[39m/\u001b[39mtau_mem))\n\u001b[0;32m----> <a href='vscode-notebook-cell:/Users/user/Senior-Thesis/Frequency/SpyTorchTutorial3%20-%20Regularizer.ipynb#X44sZmlsZQ%3D%3D?line=5'>6</a>\u001b[0m images2rate(x_train, \u001b[39m100\u001b[39;49m, alpha, beta, time_step)\n",
      "\u001b[1;32m/Users/user/Senior-Thesis/Frequency/SpyTorchTutorial3 - Regularizer.ipynb Cell 13\u001b[0m in \u001b[0;36mimages2rate\u001b[0;34m(x, freq, alpha, beta, time_step, **kwargs)\u001b[0m\n\u001b[1;32m     <a href='vscode-notebook-cell:/Users/user/Senior-Thesis/Frequency/SpyTorchTutorial3%20-%20Regularizer.ipynb#X44sZmlsZQ%3D%3D?line=36'>37</a>\u001b[0m out \u001b[39m=\u001b[39m spike_fn(mthr) \u001b[39m# Rank 2 tensor filled with -1 (256,4) feeded through a spike function\u001b[39;00m\n\u001b[1;32m     <a href='vscode-notebook-cell:/Users/user/Senior-Thesis/Frequency/SpyTorchTutorial3%20-%20Regularizer.ipynb#X44sZmlsZQ%3D%3D?line=37'>38</a>\u001b[0m rst \u001b[39m=\u001b[39m out\u001b[39m.\u001b[39mdetach() \u001b[39m# We do not want to backprop through the reset\u001b[39;00m\n\u001b[0;32m---> <a href='vscode-notebook-cell:/Users/user/Senior-Thesis/Frequency/SpyTorchTutorial3%20-%20Regularizer.ipynb#X44sZmlsZQ%3D%3D?line=39'>40</a>\u001b[0m new_syn \u001b[39m=\u001b[39m alpha\u001b[39m*\u001b[39msyn \u001b[39m+\u001b[39mh1[:,t]\n\u001b[1;32m     <a href='vscode-notebook-cell:/Users/user/Senior-Thesis/Frequency/SpyTorchTutorial3%20-%20Regularizer.ipynb#X44sZmlsZQ%3D%3D?line=40'>41</a>\u001b[0m new_mem \u001b[39m=\u001b[39m (beta\u001b[39m*\u001b[39mmem \u001b[39m+\u001b[39msyn)\u001b[39m*\u001b[39m(\u001b[39m1.0\u001b[39m\u001b[39m-\u001b[39mrst)\n\u001b[1;32m     <a href='vscode-notebook-cell:/Users/user/Senior-Thesis/Frequency/SpyTorchTutorial3%20-%20Regularizer.ipynb#X44sZmlsZQ%3D%3D?line=42'>43</a>\u001b[0m mem_rec\u001b[39m.\u001b[39mappend(mem)\n",
      "\u001b[0;31mNameError\u001b[0m: name 'h1' is not defined"
     ]
    }
   ],
   "source": [
    "tau_mem = 10e-3\n",
    "tau_syn = 5e-3\n",
    "\n",
    "alpha   = float(np.exp(-time_step/tau_syn))\n",
    "beta    = float(np.exp(-time_step/tau_mem))\n",
    "images2rate(x_train, 100, alpha, beta, time_step)"
   ]
  },
  {
   "cell_type": "code",
   "execution_count": 46,
   "metadata": {},
   "outputs": [
    {
     "ename": "RuntimeError",
     "evalue": "shape '[28, 28]' is invalid for input of size 100",
     "output_type": "error",
     "traceback": [
      "\u001b[0;31m---------------------------------------------------------------------------\u001b[0m",
      "\u001b[0;31mRuntimeError\u001b[0m                              Traceback (most recent call last)",
      "\u001b[1;32m/Users/user/Senior-Thesis/Frequency/SpyTorchTutorial3 - Regularizer.ipynb Cell 19\u001b[0m in \u001b[0;36m<cell line: 3>\u001b[0;34m()\u001b[0m\n\u001b[1;32m      <a href='vscode-notebook-cell:/Users/user/Senior-Thesis/Frequency/SpyTorchTutorial3%20-%20Regularizer.ipynb#X20sZmlsZQ%3D%3D?line=0'>1</a>\u001b[0m \u001b[39m# Here we plot one of the raw data points as an example\u001b[39;00m\n\u001b[0;32m----> <a href='vscode-notebook-cell:/Users/user/Senior-Thesis/Frequency/SpyTorchTutorial3%20-%20Regularizer.ipynb#X20sZmlsZQ%3D%3D?line=2'>3</a>\u001b[0m plt\u001b[39m.\u001b[39mimshow(test2[:,\u001b[39m2\u001b[39;49m]\u001b[39m.\u001b[39;49mreshape(\u001b[39m28\u001b[39;49m,\u001b[39m28\u001b[39;49m), cmap\u001b[39m=\u001b[39mplt\u001b[39m.\u001b[39mcm\u001b[39m.\u001b[39mgray_r)\n\u001b[1;32m      <a href='vscode-notebook-cell:/Users/user/Senior-Thesis/Frequency/SpyTorchTutorial3%20-%20Regularizer.ipynb#X20sZmlsZQ%3D%3D?line=3'>4</a>\u001b[0m plt\u001b[39m.\u001b[39maxis(\u001b[39m\"\u001b[39m\u001b[39moff\u001b[39m\u001b[39m\"\u001b[39m)\n",
      "\u001b[0;31mRuntimeError\u001b[0m: shape '[28, 28]' is invalid for input of size 100"
     ]
    }
   ],
   "source": [
    "# Here we plot one of the raw data points as an example\n",
    "\n",
    "plt.imshow(test2[:,2].reshape(28,28), cmap=plt.cm.gray_r)\n",
    "plt.axis(\"off\")"
   ]
  },
  {
   "cell_type": "code",
   "execution_count": 18,
   "metadata": {},
   "outputs": [
    {
     "data": {
      "text/plain": [
       "array([ 1.        ,  1.        ,  1.        ,  1.        ,  1.        ,\n",
       "        1.        ,  1.        ,  1.        ,  1.        ,  1.        ,\n",
       "        1.        ,  1.        ,  1.        ,  1.        ,  1.        ,\n",
       "        1.        ,  1.        ,  1.        ,  1.        ,  1.        ,\n",
       "        1.        ,  1.        ,  1.        ,  1.        ,  1.        ,\n",
       "        1.        ,  1.        ,  1.        ,  1.        ,  1.        ,\n",
       "        1.        ,  1.        ,  1.        ,  1.        ,  1.        ,\n",
       "        1.        ,  1.        ,  1.        ,  1.        ,  1.        ,\n",
       "        1.        ,  1.        ,  1.        ,  1.        ,  1.        ,\n",
       "        1.        ,  1.        ,  1.        ,  1.        ,  1.        ,\n",
       "        1.        ,  1.        ,  1.        ,  1.        ,  1.        ,\n",
       "        1.        ,  1.        ,  1.        ,  1.        ,  1.        ,\n",
       "        1.        ,  1.        ,  1.        ,  1.        ,  1.        ,\n",
       "        1.        ,  1.        ,  1.        ,  1.        ,  1.        ,\n",
       "        1.        ,  1.        ,  1.        ,  1.        ,  1.        ,\n",
       "        1.        ,  1.        ,  1.        ,  1.        ,  1.        ,\n",
       "        1.        ,  1.        ,  1.        ,  1.        ,  1.        ,\n",
       "        1.        ,  1.        ,  1.        ,  1.        ,  1.        ,\n",
       "        1.        ,  1.        ,  1.        ,  1.        ,  1.        ,\n",
       "        1.        ,  1.        ,  1.        ,  1.        ,  1.        ,\n",
       "        1.        ,  1.        ,  1.        ,  1.        ,  1.        ,\n",
       "        1.        ,  1.        ,  1.        ,  1.        ,  1.        ,\n",
       "        1.        ,  1.        ,  1.        ,  1.        ,  1.        ,\n",
       "        1.        ,  1.        ,  1.        ,  1.        ,  1.        ,\n",
       "        1.        ,  1.        ,  1.        ,  1.        ,  1.        ,\n",
       "        1.        ,  1.        ,  1.        , 13.12211818,  7.20137225,\n",
       "       13.12211818,  1.        ,  1.        ,  1.        ,  1.        ,\n",
       "        1.        ,  1.        ,  1.        ,  1.        ,  1.        ,\n",
       "        1.        ,  1.        ,  1.        ,  1.        ,  1.        ,\n",
       "        1.        ,  1.        ,  1.        ,  1.        ,  1.        ,\n",
       "        1.        ,  1.        ,  1.        ,  1.        ,  1.        ,\n",
       "        7.75531062,  7.23580089,  7.23580089,  7.23580089,  7.79532397,\n",
       "        1.        ,  1.        ,  1.        ,  1.        ,  1.        ,\n",
       "        1.        ,  1.        ,  1.        ,  1.        ,  1.        ,\n",
       "        1.        ,  1.        ,  1.        ,  1.        ,  1.        ,\n",
       "        1.        ,  1.        ,  1.        ,  1.        ,  1.        ,\n",
       "        1.        ,  1.        ,  8.21973867,  7.20137225,  7.23580089,\n",
       "        7.715711  ,  7.95964887,  7.23580089,  1.        ,  1.        ,\n",
       "        1.        ,  1.        ,  1.        ,  1.        ,  1.        ,\n",
       "        1.        ,  1.        ,  1.        ,  1.        ,  1.        ,\n",
       "        1.        ,  1.        ,  1.        ,  1.        ,  1.        ,\n",
       "        1.        ,  1.        ,  1.        ,  1.        ,  8.35635752,\n",
       "        7.23580089,  7.20137225,  7.23580089,  9.51923878, 48.31827557,\n",
       "        7.23580089,  7.20137225, 19.72617438,  1.        ,  1.        ,\n",
       "        1.        ,  1.        ,  1.        ,  1.        ,  1.        ,\n",
       "        1.        ,  1.        ,  1.        ,  1.        ,  1.        ,\n",
       "        1.        ,  1.        ,  1.        ,  1.        ,  1.        ,\n",
       "       12.67211574,  7.23580089,  7.23580089,  7.23580089,  7.20137225,\n",
       "        7.23580089,  7.23580089, 31.87867452, 10.37587587,  7.20137225,\n",
       "       12.25287923,  1.        ,  1.        ,  1.        ,  1.        ,\n",
       "        1.        ,  1.        ,  1.        ,  1.        ,  1.        ,\n",
       "        1.        ,  1.        ,  1.        ,  1.        ,  1.        ,\n",
       "        1.        ,  1.        ,  1.        ,  7.75531062,  7.20137225,\n",
       "        7.20137225, 10.3044247 , 22.23715031,  7.20137225,  8.17520008,\n",
       "        1.        , 69.06314241,  7.13349888, 12.15250014,  1.        ,\n",
       "        1.        ,  1.        ,  1.        ,  1.        ,  1.        ,\n",
       "        1.        ,  1.        ,  1.        ,  1.        ,  1.        ,\n",
       "        1.        ,  1.        ,  1.        ,  1.        ,  1.        ,\n",
       "        7.75531062,  7.23580089,  7.23580089, 11.15046015,  1.        ,\n",
       "        1.        , 20.00602713,  1.        ,  1.        ,  1.        ,\n",
       "        7.20137225,  7.56132268,  1.        ,  1.        ,  1.        ,\n",
       "        1.        ,  1.        ,  1.        ,  1.        ,  1.        ,\n",
       "        1.        ,  1.        ,  1.        ,  1.        ,  1.        ,\n",
       "        1.        ,  1.        , 12.45885844,  7.20137225,  7.95964887,\n",
       "        9.17062456, 48.31827557,  1.        ,  1.        ,  1.        ,\n",
       "        1.        ,  1.        ,  1.        ,  7.20137225,  7.23580089,\n",
       "       12.45885844,  1.        ,  1.        ,  1.        ,  1.        ,\n",
       "        1.        ,  1.        ,  1.        ,  1.        ,  1.        ,\n",
       "        1.        ,  1.        ,  1.        ,  1.        , 11.23449504,\n",
       "        7.23580089,  7.67651866,  1.        ,  1.        ,  1.        ,\n",
       "        1.        ,  1.        ,  1.        ,  1.        ,  1.        ,\n",
       "        1.        ,  7.20137225,  7.23580089,  9.96173196,  1.        ,\n",
       "        1.        ,  1.        ,  1.        ,  1.        ,  1.        ,\n",
       "        1.        ,  1.        ,  1.        ,  1.        ,  1.        ,\n",
       "        1.        ,  1.        ,  7.23580089,  7.23580089,  1.        ,\n",
       "        1.        ,  1.        ,  1.        ,  1.        ,  1.        ,\n",
       "        1.        ,  1.        ,  1.        ,  1.        ,  7.20137225,\n",
       "        7.23580089,  9.96173196,  1.        ,  1.        ,  1.        ,\n",
       "        1.        ,  1.        ,  1.        ,  1.        ,  1.        ,\n",
       "        1.        ,  1.        ,  1.        ,  1.        ,  9.76705536,\n",
       "        7.20137225, 10.3044247 ,  1.        ,  1.        ,  1.        ,\n",
       "        1.        ,  1.        ,  1.        ,  1.        ,  1.        ,\n",
       "        1.        ,  1.        ,  7.13349888,  7.20137225,  9.89596576,\n",
       "        1.        ,  1.        ,  1.        ,  1.        ,  1.        ,\n",
       "        1.        ,  1.        ,  1.        ,  1.        ,  1.        ,\n",
       "        1.        ,  1.        ,  7.44957218,  7.23580089, 22.9793235 ,\n",
       "        1.        ,  1.        ,  1.        ,  1.        ,  1.        ,\n",
       "        1.        ,  1.        ,  1.        ,  1.        ,  1.        ,\n",
       "        7.20137225,  7.23580089, 14.55029648,  1.        ,  1.        ,\n",
       "        1.        ,  1.        ,  1.        ,  1.        ,  1.        ,\n",
       "        1.        ,  1.        ,  1.        ,  1.        , 46.05170186,\n",
       "        7.23580089,  8.08757484,  1.        ,  1.        ,  1.        ,\n",
       "        1.        ,  1.        ,  1.        ,  1.        ,  1.        ,\n",
       "        1.        ,  1.        , 16.72496048,  7.20137225, 10.59644249,\n",
       "        1.        ,  1.        ,  1.        ,  1.        ,  1.        ,\n",
       "        1.        ,  1.        ,  1.        ,  1.        ,  1.        ,\n",
       "        1.        ,  1.        , 46.05170186,  7.23580089,  8.40292686,\n",
       "        1.        ,  1.        ,  1.        ,  1.        ,  1.        ,\n",
       "        1.        ,  1.        ,  1.        ,  1.        , 17.53993243,\n",
       "        7.23580089,  8.31030888,  1.        ,  1.        ,  1.        ,\n",
       "        1.        ,  1.        ,  1.        ,  1.        ,  1.        ,\n",
       "        1.        ,  1.        ,  1.        ,  1.        ,  1.        ,\n",
       "       46.05170186,  7.23580089, 14.99799994,  1.        ,  1.        ,\n",
       "        1.        ,  1.        ,  1.        ,  1.        ,  1.        ,\n",
       "        1.        , 12.45885844,  7.23580089, 11.67497172,  1.        ,\n",
       "        1.        ,  1.        ,  1.        ,  1.        ,  1.        ,\n",
       "        1.        ,  1.        ,  1.        ,  1.        ,  1.        ,\n",
       "        1.        ,  1.        ,  1.        , 44.06110995,  7.20137225,\n",
       "        8.31030888,  1.        ,  1.        ,  1.        ,  1.        ,\n",
       "        1.        ,  1.        , 22.23715031,  7.75531062,  7.20137225,\n",
       "       12.78159919,  1.        ,  1.        ,  1.        ,  1.        ,\n",
       "        1.        ,  1.        ,  1.        ,  1.        ,  1.        ,\n",
       "        1.        ,  1.        ,  1.        ,  1.        ,  1.        ,\n",
       "        1.        , 46.05170186,  7.23580089,  7.3411132 , 14.84559738,\n",
       "        1.        ,  1.        , 46.05170186, 11.23449504,  8.31030888,\n",
       "        7.20137225,  8.40292686, 12.25287923,  1.        ,  1.        ,\n",
       "        1.        ,  1.        ,  1.        ,  1.        ,  1.        ,\n",
       "        1.        ,  1.        ,  1.        ,  1.        ,  1.        ,\n",
       "        1.        ,  1.        ,  1.        ,  1.        , 46.05170186,\n",
       "        7.23580089,  7.23580089,  7.23580089,  8.13114815,  8.79535405,\n",
       "        7.23580089,  7.23580089,  7.23580089,  9.89596576, 17.75705593,\n",
       "        1.        ,  1.        ,  1.        ,  1.        ,  1.        ,\n",
       "        1.        ,  1.        ,  1.        ,  1.        ,  1.        ,\n",
       "        1.        ,  1.        ,  1.        ,  1.        ,  1.        ,\n",
       "        1.        ,  1.        ,  1.        ,  9.70387589,  7.23580089,\n",
       "        7.23580089,  7.20137225,  7.23580089,  7.23580089,  7.95964887,\n",
       "       14.99799994,  1.        ,  1.        ,  1.        ,  1.        ,\n",
       "        1.        ,  1.        ,  1.        ,  1.        ,  1.        ,\n",
       "        1.        ,  1.        ,  1.        ,  1.        ,  1.        ,\n",
       "        1.        ,  1.        ,  1.        ,  1.        ,  1.        ,\n",
       "        1.        ,  1.        , 18.20896912,  7.23580089,  7.20137225,\n",
       "        7.23580089, 15.64189333,  1.        ,  1.        ,  1.        ,\n",
       "        1.        ,  1.        ,  1.        ,  1.        ,  1.        ,\n",
       "        1.        ,  1.        ,  1.        ,  1.        ,  1.        ,\n",
       "        1.        ,  1.        ,  1.        ,  1.        ,  1.        ,\n",
       "        1.        ,  1.        ,  1.        ,  1.        ,  1.        ,\n",
       "        1.        ,  1.        ,  1.        ,  1.        ,  1.        ,\n",
       "        1.        ,  1.        ,  1.        ,  1.        ,  1.        ,\n",
       "        1.        ,  1.        ,  1.        ,  1.        ,  1.        ,\n",
       "        1.        ,  1.        ,  1.        ,  1.        ,  1.        ,\n",
       "        1.        ,  1.        ,  1.        ,  1.        ,  1.        ,\n",
       "        1.        ,  1.        ,  1.        ,  1.        ,  1.        ,\n",
       "        1.        ,  1.        ,  1.        ,  1.        ,  1.        ,\n",
       "        1.        ,  1.        ,  1.        ,  1.        ,  1.        ,\n",
       "        1.        ,  1.        ,  1.        ,  1.        ,  1.        ,\n",
       "        1.        ,  1.        ,  1.        ,  1.        ,  1.        ,\n",
       "        1.        ,  1.        ,  1.        ,  1.        ,  1.        ,\n",
       "        1.        ,  1.        ,  1.        ,  1.        ,  1.        ,\n",
       "        1.        ,  1.        ,  1.        ,  1.        ,  1.        ,\n",
       "        1.        ,  1.        ,  1.        ,  1.        ,  1.        ,\n",
       "        1.        ,  1.        ,  1.        ,  1.        ,  1.        ,\n",
       "        1.        ,  1.        ,  1.        ,  1.        ,  1.        ,\n",
       "        1.        ,  1.        ,  1.        ,  1.        ,  1.        ,\n",
       "        1.        ,  1.        ,  1.        ,  1.        ,  1.        ,\n",
       "        1.        ,  1.        ,  1.        ,  1.        ,  1.        ,\n",
       "        1.        ,  1.        ,  1.        ,  1.        ,  1.        ,\n",
       "        1.        ,  1.        ,  1.        ,  1.        ])"
      ]
     },
     "execution_count": 18,
     "metadata": {},
     "output_type": "execute_result"
    }
   ],
   "source": [
    "test1"
   ]
  },
  {
   "cell_type": "markdown",
   "metadata": {},
   "source": [
    "### Setup of the spiking network model"
   ]
  },
  {
   "cell_type": "code",
   "execution_count": 8,
   "metadata": {},
   "outputs": [],
   "source": [
    "tau_mem = 10e-3\n",
    "tau_syn = 5e-3\n",
    "\n",
    "alpha   = float(np.exp(-time_step/tau_syn))\n",
    "beta    = float(np.exp(-time_step/tau_mem))"
   ]
  },
  {
   "cell_type": "code",
   "execution_count": 9,
   "metadata": {},
   "outputs": [
    {
     "name": "stdout",
     "output_type": "stream",
     "text": [
      "init done\n"
     ]
    }
   ],
   "source": [
    "weight_scale = 0.006\n",
    "\n",
    "w1 = torch.empty((nb_inputs, nb_hidden),  device=device, dtype=dtype, requires_grad=True)\n",
    "torch.nn.init.normal_(w1, mean=0.0, std=weight_scale)\n",
    "\n",
    "w2 = torch.empty((nb_hidden, nb_outputs), device=device, dtype=dtype, requires_grad=True)\n",
    "torch.nn.init.normal_(w2, mean=0.0, std=weight_scale)\n",
    "\n",
    "print(\"init done\")"
   ]
  },
  {
   "cell_type": "code",
   "execution_count": 10,
   "metadata": {},
   "outputs": [],
   "source": [
    "def plot_voltage_traces(mem, spk=None, dim=(3,5), spike_height=5):\n",
    "    gs=GridSpec(*dim)\n",
    "    if spk is not None:\n",
    "        dat = 1.0*mem\n",
    "        dat[spk>0.0] = spike_height\n",
    "        dat = dat.detach().cpu().numpy()\n",
    "    else:\n",
    "        dat = mem.detach().cpu().numpy()\n",
    "    for i in range(np.prod(dim)):\n",
    "        if i==0: a0=ax=plt.subplot(gs[i])\n",
    "        else: ax=plt.subplot(gs[i],sharey=a0)\n",
    "        ax.plot(dat[i])\n",
    "        ax.axis(\"off\")"
   ]
  },
  {
   "cell_type": "markdown",
   "metadata": {},
   "source": [
    "## Training the network"
   ]
  },
  {
   "cell_type": "code",
   "execution_count": 11,
   "metadata": {},
   "outputs": [],
   "source": [
    "class SurrGradSpike(torch.autograd.Function):\n",
    "    \"\"\"\n",
    "    Here we implement our spiking nonlinearity which also implements \n",
    "    the surrogate gradient. By subclassing torch.autograd.Function, \n",
    "    we will be able to use all of PyTorch's autograd functionality.\n",
    "    Here we use the normalized negative part of a fast sigmoid \n",
    "    as this was done in Zenke & Ganguli (2018).\n",
    "    \"\"\"\n",
    "    \n",
    "    scale = 100.0 # controls steepness of surrogate gradient\n",
    "\n",
    "    @staticmethod\n",
    "    def forward(ctx, input):\n",
    "        \"\"\"\n",
    "        In the forward pass we compute a step function of the input Tensor\n",
    "        and return it. ctx is a context object that we use to stash information which \n",
    "        we need to later backpropagate our error signals. To achieve this we use the \n",
    "        ctx.save_for_backward method.\n",
    "        \"\"\"\n",
    "        ctx.save_for_backward(input)\n",
    "        out = torch.zeros_like(input)\n",
    "        out[input > 0] = 1.0\n",
    "        return out\n",
    "\n",
    "    @staticmethod\n",
    "    def backward(ctx, grad_output):\n",
    "        \"\"\"\n",
    "        In the backward pass we receive a Tensor we need to compute the \n",
    "        surrogate gradient of the loss with respect to the input. \n",
    "        Here we use the normalized negative part of a fast sigmoid \n",
    "        as this was done in Zenke & Ganguli (2018).\n",
    "        \"\"\"\n",
    "        input, = ctx.saved_tensors\n",
    "        grad_input = grad_output.clone()\n",
    "        grad = grad_input/(SurrGradSpike.scale*torch.abs(input)+1.0)**2\n",
    "        return grad\n",
    "    \n",
    "# here we overwrite our naive spike function by the \"SurrGradSpike\" nonlinearity which implements a surrogate gradient\n",
    "spike_fn  = SurrGradSpike.apply"
   ]
  },
  {
   "cell_type": "code",
   "execution_count": 12,
   "metadata": {},
   "outputs": [],
   "source": [
    "def run_snn(inputs):\n",
    "    h1 = torch.einsum(\"abc,cd->abd\", (inputs, w1))\n",
    "    syn = torch.zeros((batch_size,nb_hidden), device=device, dtype=dtype)\n",
    "    mem = torch.zeros((batch_size,nb_hidden), device=device, dtype=dtype)\n",
    "\n",
    "    mem_rec = []\n",
    "    spk_rec = []\n",
    "\n",
    "    # Compute hidden layer activity\n",
    "    for t in range(nb_steps):\n",
    "        mthr = mem-1.0\n",
    "        out = spike_fn(mthr)\n",
    "        rst = out.detach() # We do not want to backprop through the reset\n",
    "\n",
    "        new_syn = alpha*syn +h1[:,t]\n",
    "        new_mem = (beta*mem +syn)*(1.0-rst)\n",
    "\n",
    "        mem_rec.append(mem)\n",
    "        spk_rec.append(out)\n",
    "        \n",
    "        mem = new_mem\n",
    "        syn = new_syn\n",
    "\n",
    "    mem_rec = torch.stack(mem_rec,dim=1)\n",
    "    spk_rec = torch.stack(spk_rec,dim=1)\n",
    "\n",
    "    # Readout layer\n",
    "    h2= torch.einsum(\"abc,cd->abd\", (spk_rec, w2))\n",
    "    flt = torch.zeros((batch_size,nb_outputs), device=device, dtype=dtype)\n",
    "    out = torch.zeros((batch_size,nb_outputs), device=device, dtype=dtype)\n",
    "    out_rec = [out]\n",
    "    for t in range(nb_steps):\n",
    "        new_flt = alpha*flt +h2[:,t]\n",
    "        new_out = beta*out +flt\n",
    "\n",
    "        flt = new_flt\n",
    "        out = new_out\n",
    "\n",
    "        out_rec.append(out)\n",
    "\n",
    "    out_rec = torch.stack(out_rec,dim=1)\n",
    "    other_recs = [mem_rec, spk_rec]\n",
    "    return out_rec, other_recs"
   ]
  },
  {
   "cell_type": "code",
   "execution_count": 13,
   "metadata": {},
   "outputs": [],
   "source": [
    "def train(x_data, y_data, lr=1e-3, nb_epochs=10):\n",
    "    params = [w1,w2]\n",
    "    optimizer = torch.optim.Adamax(params, lr=lr, betas=(0.9,0.999))\n",
    "\n",
    "    log_softmax_fn = nn.LogSoftmax(dim=1)\n",
    "    loss_fn = nn.NLLLoss()\n",
    "    \n",
    "    loss_hist = []\n",
    "    for e in range(nb_epochs):\n",
    "        local_loss = []\n",
    "        for x_local, y_local in sparse_data_generator(x_data, y_data, batch_size, nb_steps, nb_inputs):\n",
    "            output,recs = run_snn(x_local.to_dense())\n",
    "            _,spks=recs\n",
    "            m,_=torch.max(output,1)\n",
    "            log_p_y = log_softmax_fn(m)\n",
    "            \n",
    "            # Here we set up our regularizer loss\n",
    "            # The strength paramters here are merely a guess and there should be ample room for improvement by\n",
    "            # tuning these paramters.\n",
    "            reg_loss = 1e-7*torch.sum(spks) # L1 loss on total number of spikes\n",
    "            reg_loss += 1e-8*torch.mean(torch.sum(torch.sum(spks,dim=0),dim=0)**2) # L2 loss on spikes per neuron\n",
    "            \n",
    "            # Here we combine supervised loss and the regularizer\n",
    "            loss_val = loss_fn(log_p_y, y_local) + reg_loss\n",
    "\n",
    "            optimizer.zero_grad()\n",
    "            loss_val.backward()\n",
    "            optimizer.step()\n",
    "            local_loss.append(loss_val.item())\n",
    "        mean_loss = np.mean(local_loss)\n",
    "        print(\"Epoch %i: loss=%.5f\"%(e+1,mean_loss))\n",
    "        loss_hist.append(mean_loss)\n",
    "        \n",
    "    return loss_hist\n",
    "        \n",
    "        \n",
    "def compute_classification_accuracy(x_data, y_data):\n",
    "    \"\"\" Computes classification accuracy on supplied data in batches. \"\"\"\n",
    "    accs = []\n",
    "    for x_local, y_local in sparse_data_generator(x_data, y_data, batch_size, nb_steps, nb_inputs, shuffle=False):\n",
    "        output,_ = run_snn(x_local.to_dense())\n",
    "        m,_= torch.max(output,1) # max over time\n",
    "        _,am=torch.max(m,1)      # argmax over output units\n",
    "        tmp = np.mean((y_local==am).detach().cpu().numpy()) # compare to labels\n",
    "        accs.append(tmp)\n",
    "    return np.mean(accs)"
   ]
  },
  {
   "cell_type": "code",
   "execution_count": 14,
   "metadata": {},
   "outputs": [
    {
     "name": "stdout",
     "output_type": "stream",
     "text": [
      "Epoch 1: loss=1.11802\n",
      "Epoch 2: loss=0.56827\n",
      "Epoch 3: loss=0.50603\n",
      "Epoch 4: loss=0.47414\n",
      "Epoch 5: loss=0.45459\n",
      "Epoch 6: loss=0.43781\n",
      "Epoch 7: loss=0.42590\n",
      "Epoch 8: loss=0.41635\n",
      "Epoch 9: loss=0.40503\n",
      "Epoch 10: loss=0.39682\n",
      "Epoch 11: loss=0.38893\n",
      "Epoch 12: loss=0.38131\n",
      "Epoch 13: loss=0.37729\n",
      "Epoch 14: loss=0.36786\n",
      "Epoch 15: loss=0.36370\n",
      "Epoch 16: loss=0.35979\n",
      "Epoch 17: loss=0.35426\n",
      "Epoch 18: loss=0.34891\n",
      "Epoch 19: loss=0.34513\n",
      "Epoch 20: loss=0.34203\n",
      "Epoch 21: loss=0.33562\n",
      "Epoch 22: loss=0.33408\n",
      "Epoch 23: loss=0.32876\n",
      "Epoch 24: loss=0.32537\n",
      "Epoch 25: loss=0.32183\n",
      "Epoch 26: loss=0.31816\n",
      "Epoch 27: loss=0.31520\n",
      "Epoch 28: loss=0.31278\n",
      "Epoch 29: loss=0.30740\n",
      "Epoch 30: loss=0.30675\n",
      "Epoch 31: loss=0.30363\n",
      "Epoch 32: loss=0.30071\n",
      "Epoch 33: loss=0.29856\n",
      "Epoch 34: loss=0.29340\n",
      "Epoch 35: loss=0.29048\n",
      "Epoch 36: loss=0.28891\n",
      "Epoch 37: loss=0.28643\n",
      "Epoch 38: loss=0.28419\n",
      "Epoch 39: loss=0.28089\n",
      "Epoch 40: loss=0.28045\n",
      "Epoch 41: loss=0.27590\n",
      "Epoch 42: loss=0.27312\n",
      "Epoch 43: loss=0.27085\n",
      "Epoch 44: loss=0.26841\n",
      "Epoch 45: loss=0.26651\n",
      "Epoch 46: loss=0.26468\n",
      "Epoch 47: loss=0.26301\n",
      "Epoch 48: loss=0.26033\n",
      "Epoch 49: loss=0.25934\n",
      "Epoch 50: loss=0.25561\n",
      "Epoch 51: loss=0.25189\n",
      "Epoch 52: loss=0.25109\n",
      "Epoch 53: loss=0.24986\n",
      "Epoch 54: loss=0.24462\n",
      "Epoch 55: loss=0.24353\n",
      "Epoch 56: loss=0.24571\n",
      "Epoch 57: loss=0.24053\n",
      "Epoch 58: loss=0.24106\n",
      "Epoch 59: loss=0.23856\n",
      "Epoch 60: loss=0.23563\n",
      "Epoch 61: loss=0.23456\n",
      "Epoch 62: loss=0.23278\n",
      "Epoch 63: loss=0.22874\n",
      "Epoch 64: loss=0.22654\n",
      "Epoch 65: loss=0.22605\n",
      "Epoch 66: loss=0.22438\n",
      "Epoch 67: loss=0.22294\n",
      "Epoch 68: loss=0.21878\n",
      "Epoch 69: loss=0.22017\n",
      "Epoch 70: loss=0.21727\n",
      "Epoch 71: loss=0.21531\n",
      "Epoch 72: loss=0.21821\n",
      "Epoch 73: loss=0.21323\n",
      "Epoch 74: loss=0.21299\n",
      "Epoch 75: loss=0.20937\n",
      "Epoch 76: loss=0.20848\n",
      "Epoch 77: loss=0.20577\n",
      "Epoch 78: loss=0.20405\n",
      "Epoch 79: loss=0.20508\n",
      "Epoch 80: loss=0.20182\n",
      "Epoch 81: loss=0.20055\n",
      "Epoch 82: loss=0.20026\n",
      "Epoch 83: loss=0.19853\n",
      "Epoch 84: loss=0.19824\n",
      "Epoch 85: loss=0.19785\n",
      "Epoch 86: loss=0.19439\n",
      "Epoch 87: loss=0.19420\n",
      "Epoch 88: loss=0.18920\n",
      "Epoch 89: loss=0.18973\n",
      "Epoch 90: loss=0.18884\n",
      "Epoch 91: loss=0.18905\n",
      "Epoch 92: loss=0.18521\n",
      "Epoch 93: loss=0.18473\n",
      "Epoch 94: loss=0.18252\n",
      "Epoch 95: loss=0.18360\n",
      "Epoch 96: loss=0.18220\n",
      "Epoch 97: loss=0.18186\n",
      "Epoch 98: loss=0.17848\n",
      "Epoch 99: loss=0.17942\n",
      "Epoch 100: loss=0.17567\n",
      "Epoch 101: loss=0.17560\n",
      "Epoch 102: loss=0.17554\n",
      "Epoch 103: loss=0.17325\n",
      "Epoch 104: loss=0.17033\n",
      "Epoch 105: loss=0.17089\n",
      "Epoch 106: loss=0.17164\n",
      "Epoch 107: loss=0.16647\n",
      "Epoch 108: loss=0.16690\n",
      "Epoch 109: loss=0.16453\n",
      "Epoch 110: loss=0.16234\n",
      "Epoch 111: loss=0.16075\n",
      "Epoch 112: loss=0.16163\n",
      "Epoch 113: loss=0.16017\n",
      "Epoch 114: loss=0.16054\n",
      "Epoch 115: loss=0.15917\n",
      "Epoch 116: loss=0.15546\n",
      "Epoch 117: loss=0.15785\n",
      "Epoch 118: loss=0.15634\n",
      "Epoch 119: loss=0.15537\n",
      "Epoch 120: loss=0.15432\n",
      "Epoch 121: loss=0.15188\n",
      "Epoch 122: loss=0.14985\n",
      "Epoch 123: loss=0.15063\n",
      "Epoch 124: loss=0.15117\n",
      "Epoch 125: loss=0.14752\n",
      "Epoch 126: loss=0.14699\n",
      "Epoch 127: loss=0.14884\n",
      "Epoch 128: loss=0.14753\n",
      "Epoch 129: loss=0.14396\n",
      "Epoch 130: loss=0.14449\n",
      "Epoch 131: loss=0.14233\n",
      "Epoch 132: loss=0.14499\n",
      "Epoch 133: loss=0.14248\n",
      "Epoch 134: loss=0.14056\n",
      "Epoch 135: loss=0.14054\n",
      "Epoch 136: loss=0.14019\n",
      "Epoch 137: loss=0.13726\n",
      "Epoch 138: loss=0.13987\n",
      "Epoch 139: loss=0.13447\n",
      "Epoch 140: loss=0.13392\n",
      "Epoch 141: loss=0.13624\n",
      "Epoch 142: loss=0.13357\n",
      "Epoch 143: loss=0.13238\n",
      "Epoch 144: loss=0.13408\n",
      "Epoch 145: loss=0.13024\n",
      "Epoch 146: loss=0.13139\n",
      "Epoch 147: loss=0.12972\n",
      "Epoch 148: loss=0.13055\n",
      "Epoch 149: loss=0.12828\n",
      "Epoch 150: loss=0.12763\n"
     ]
    }
   ],
   "source": [
    "loss_hist = train(x_train, y_train, lr=5e-4, nb_epochs=150)"
   ]
  },
  {
   "cell_type": "code",
   "execution_count": 15,
   "metadata": {},
   "outputs": [
    {
     "data": {
      "image/png": "[encoded data removed]",
      "text/plain": [
       "<Figure size 495x300 with 1 Axes>"
      ]
     },
     "metadata": {},
     "output_type": "display_data"
    }
   ],
   "source": [
    "plt.figure(figsize=(3.3,2),dpi=150)\n",
    "plt.plot(loss_hist)\n",
    "plt.xlabel(\"Epoch\")\n",
    "plt.ylabel(\"Loss\")\n",
    "sns.despine()"
   ]
  },
  {
   "cell_type": "code",
   "execution_count": 16,
   "metadata": {},
   "outputs": [
    {
     "name": "stdout",
     "output_type": "stream",
     "text": [
      "Training accuracy: 0.961\n",
      "Test accuracy: 0.862\n"
     ]
    }
   ],
   "source": [
    "print(\"Training accuracy: %.3f\"%(compute_classification_accuracy(x_train,y_train)))\n",
    "print(\"Test accuracy: %.3f\"%(compute_classification_accuracy(x_test,y_test)))"
   ]
  },
  {
   "cell_type": "code",
   "execution_count": 17,
   "metadata": {},
   "outputs": [],
   "source": [
    "def get_mini_batch(x_data, y_data, shuffle=False):\n",
    "    for ret in sparse_data_generator(x_data, y_data, batch_size, nb_steps, nb_inputs, shuffle=shuffle):\n",
    "        return ret "
   ]
  },
  {
   "cell_type": "code",
   "execution_count": 18,
   "metadata": {},
   "outputs": [],
   "source": [
    "x_batch, y_batch = get_mini_batch(x_test, y_test)\n",
    "output, other_recordings = run_snn(x_batch.to_dense())\n",
    "mem_rec, spk_rec = other_recordings"
   ]
  },
  {
   "cell_type": "code",
   "execution_count": 19,
   "metadata": {},
   "outputs": [
    {
     "data": {
      "image/png": "[encoded data removed]",
      "text/plain": [
       "<Figure size 640x480 with 15 Axes>"
      ]
     },
     "metadata": {},
     "output_type": "display_data"
    }
   ],
   "source": [
    "fig=plt.figure(dpi=100)\n",
    "plot_voltage_traces(output)"
   ]
  },
  {
   "cell_type": "code",
   "execution_count": 20,
   "metadata": {},
   "outputs": [
    {
     "data": {
      "image/png": "[encoded data removed]",
      "text/plain": [
       "<Figure size 1050x450 with 4 Axes>"
      ]
     },
     "metadata": {},
     "output_type": "display_data"
    }
   ],
   "source": [
    "# Let's plot the hiddden layer spiking activity for some input stimuli\n",
    "\n",
    "nb_plt = 4\n",
    "gs = GridSpec(1,nb_plt)\n",
    "fig= plt.figure(figsize=(7,3),dpi=150)\n",
    "for i in range(nb_plt):\n",
    "    plt.subplot(gs[i])\n",
    "    plt.imshow(spk_rec[i].detach().cpu().numpy().T,cmap=plt.cm.gray_r, origin=\"lower\" )\n",
    "    if i==0:\n",
    "        plt.xlabel(\"Time\")\n",
    "        plt.ylabel(\"Units\")\n",
    "\n",
    "    sns.despine()"
   ]
  },
  {
   "cell_type": "markdown",
   "metadata": {},
   "source": [
    "Compared to the hidden layer activity in our previous Tutorial 2, we can now appreciate that spiking in the hidden layer is much sparser.\n",
    "\n",
    "In the next tutorial notebook, we will apply the same training paradigm to the Heidelberg Digits, a realistic speech dataset generated from spoken digits processed through a plausible cochlea model."
   ]
  },
  {
   "cell_type": "markdown",
   "metadata": {},
   "source": [
    "<a rel=\"license\" href=\"http://creativecommons.org/licenses/by/4.0/\"><img alt=\"Creative Commons License\" style=\"border-width:0\" src=\"https://i.creativecommons.org/l/by/4.0/88x31.png\" /></a><br />This work is licensed under a <a rel=\"license\" href=\"http://creativecommons.org/licenses/by/4.0/\">Creative Commons Attribution 4.0 International License</a>."
   ]
  }
 ],
 "metadata": {
  "kernelspec": {
   "display_name": "spytorch",
   "language": "python",
   "name": "python3"
  },
  "language_info": {
   "codemirror_mode": {
    "name": "ipython",
    "version": 3
   },
   "file_extension": ".py",
   "mimetype": "text/x-python",
   "name": "python",
   "nbconvert_exporter": "python",
   "pygments_lexer": "ipython3",
   "version": "3.10.6"
  },
  "vscode": {
   "interpreter": {
    "hash": "f51df8c237cfff43f594d2cbd3826b4705755914f532f86790fe777fc6074838"
   }
  }
 },
 "nbformat": 4,
 "nbformat_minor": 2
}
