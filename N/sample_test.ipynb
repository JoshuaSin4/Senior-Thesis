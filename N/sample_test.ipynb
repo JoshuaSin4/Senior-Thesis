{
 "cells": [
  {
   "cell_type": "code",
   "execution_count": 1,
   "metadata": {},
   "outputs": [],
   "source": [
    "import numpy as np"
   ]
  },
  {
   "cell_type": "code",
   "execution_count": 9,
   "metadata": {},
   "outputs": [
    {
     "name": "stdout",
     "output_type": "stream",
     "text": [
      "[0.1 0.1 0.1 0.1 0.1 0.1 0.1 0.1 0.1 0.1]\n",
      "[0.2 0.2 0.2 0.2 0.2 0.2 0.2 0.2 0.2 0.2]\n",
      "[0.3 0.3 0.3 0.3 0.3 0.3 0.3 0.3 0.3 0.3]\n",
      "[0.4 0.4 0.4 0.4 0.4 0.4 0.4 0.4 0.4 0.4]\n",
      "[0.5 0.5 0.5 0.5 0.5 0.5 0.5 0.5 0.5 0.5]\n",
      "[0.6 0.6 0.6 0.6 0.6 0.6 0.6 0.6 0.6 0.6]\n",
      "[0.7 0.7 0.7 0.7 0.7 0.7 0.7 0.7 0.7 0.7]\n",
      "[0.8 0.8 0.8 0.8 0.8 0.8 0.8 0.8 0.8 0.8]\n",
      "[0.9 0.9 0.9 0.9 0.9 0.9 0.9 0.9 0.9 0.9]\n",
      "[0.1 0.1 0.1 0.1 0.1 0.1 0.1 0.1 0.1 0.1]\n",
      "[0.2 0.2 0.2 0.2 0.2 0.2 0.2 0.2 0.2 0.2]\n",
      "[0.3 0.3 0.3 0.3 0.3 0.3 0.3 0.3 0.3 0.3]\n",
      "[0.4 0.4 0.4 0.4 0.4 0.4 0.4 0.4 0.4 0.4]\n",
      "[0.5 0.5 0.5 0.5 0.5 0.5 0.5 0.5 0.5 0.5]\n",
      "[0.6 0.6 0.6 0.6 0.6 0.6 0.6 0.6 0.6 0.6]\n",
      "[0.7 0.7 0.7 0.7 0.7 0.7 0.7 0.7 0.7 0.7]\n",
      "[0.8 0.8 0.8 0.8 0.8 0.8 0.8 0.8 0.8 0.8]\n",
      "[0.9 0.9 0.9 0.9 0.9 0.9 0.9 0.9 0.9 0.9]\n",
      "[0.1 0.1 0.1 0.1 0.1 0.1 0.1 0.1 0.1 0.1]\n",
      "[0.2 0.2 0.2 0.2 0.2 0.2 0.2 0.2 0.2 0.2]\n",
      "[0.3 0.3 0.3 0.3 0.3 0.3 0.3 0.3 0.3 0.3]\n",
      "[0.4 0.4 0.4 0.4 0.4 0.4 0.4 0.4 0.4 0.4]\n",
      "[0.5 0.5 0.5 0.5 0.5 0.5 0.5 0.5 0.5 0.5]\n",
      "[0.6 0.6 0.6 0.6 0.6 0.6 0.6 0.6 0.6 0.6]\n",
      "[0.7 0.7 0.7 0.7 0.7 0.7 0.7 0.7 0.7 0.7]\n",
      "[0.8 0.8 0.8 0.8 0.8 0.8 0.8 0.8 0.8 0.8]\n",
      "[0.9 0.9 0.9 0.9 0.9 0.9 0.9 0.9 0.9 0.9]\n",
      "[0.1 0.1 0.1 0.1 0.1 0.1 0.1 0.1 0.1 0.1]\n",
      "[0.2 0.2 0.2 0.2 0.2 0.2 0.2 0.2 0.2 0.2]\n",
      "[0.3 0.3 0.3 0.3 0.3 0.3 0.3 0.3 0.3 0.3]\n",
      "[0.4 0.4 0.4 0.4 0.4 0.4 0.4 0.4 0.4 0.4]\n",
      "[0.5 0.5 0.5 0.5 0.5 0.5 0.5 0.5 0.5 0.5]\n",
      "[0.6 0.6 0.6 0.6 0.6 0.6 0.6 0.6 0.6 0.6]\n",
      "[0.7 0.7 0.7 0.7 0.7 0.7 0.7 0.7 0.7 0.7]\n",
      "[0.8 0.8 0.8 0.8 0.8 0.8 0.8 0.8 0.8 0.8]\n",
      "[0.9 0.9 0.9 0.9 0.9 0.9 0.9 0.9 0.9 0.9]\n",
      "[0.1 0.1 0.1 0.1 0.1 0.1 0.1 0.1 0.1 0.1]\n",
      "[0.2 0.2 0.2 0.2 0.2 0.2 0.2 0.2 0.2 0.2]\n",
      "[0.3 0.3 0.3 0.3 0.3 0.3 0.3 0.3 0.3 0.3]\n",
      "[0.4 0.4 0.4 0.4 0.4 0.4 0.4 0.4 0.4 0.4]\n",
      "[0.5 0.5 0.5 0.5 0.5 0.5 0.5 0.5 0.5 0.5]\n",
      "[0.6 0.6 0.6 0.6 0.6 0.6 0.6 0.6 0.6 0.6]\n",
      "[0.7 0.7 0.7 0.7 0.7 0.7 0.7 0.7 0.7 0.7]\n",
      "[0.8 0.8 0.8 0.8 0.8 0.8 0.8 0.8 0.8 0.8]\n",
      "[0.9 0.9 0.9 0.9 0.9 0.9 0.9 0.9 0.9 0.9]\n",
      "[0.1 0.1 0.1 0.1 0.1 0.1 0.1 0.1 0.1 0.1]\n",
      "[0.2 0.2 0.2 0.2 0.2 0.2 0.2 0.2 0.2 0.2]\n"
     ]
    },
    {
     "ename": "FileNotFoundError",
     "evalue": "[Errno 2] No such file or directory: 'input100sample100std_w10.3std_w20.9.npz'",
     "output_type": "error",
     "traceback": [
      "\u001b[0;31m---------------------------------------------------------------------------\u001b[0m",
      "\u001b[0;31mFileNotFoundError\u001b[0m                         Traceback (most recent call last)",
      "\u001b[1;32m/Users/user/Senior-Thesis/N/sample_test.ipynb Cell 2\u001b[0m in \u001b[0;36m<cell line: 8>\u001b[0;34m()\u001b[0m\n\u001b[1;32m      <a href='vscode-notebook-cell:/Users/user/Senior-Thesis/N/sample_test.ipynb#X16sZmlsZQ%3D%3D?line=8'>9</a>\u001b[0m \u001b[39mfor\u001b[39;00m w1_std \u001b[39min\u001b[39;00m w1_std_list:\n\u001b[1;32m     <a href='vscode-notebook-cell:/Users/user/Senior-Thesis/N/sample_test.ipynb#X16sZmlsZQ%3D%3D?line=9'>10</a>\u001b[0m     name_now\u001b[39m=\u001b[39mname_str\u001b[39m.\u001b[39mformat(sample_index, w1_std,w2_std)\n\u001b[0;32m---> <a href='vscode-notebook-cell:/Users/user/Senior-Thesis/N/sample_test.ipynb#X16sZmlsZQ%3D%3D?line=10'>11</a>\u001b[0m     data\u001b[39m=\u001b[39mnp\u001b[39m.\u001b[39;49mload(name_now)\n\u001b[1;32m     <a href='vscode-notebook-cell:/Users/user/Senior-Thesis/N/sample_test.ipynb#X16sZmlsZQ%3D%3D?line=12'>13</a>\u001b[0m     \u001b[39mprint\u001b[39m(data[\u001b[39m'\u001b[39m\u001b[39mstd_w1_list\u001b[39m\u001b[39m'\u001b[39m])\n",
      "File \u001b[0;32m~/opt/anaconda3/envs/spytorch/lib/python3.10/site-packages/numpy/lib/npyio.py:390\u001b[0m, in \u001b[0;36mload\u001b[0;34m(file, mmap_mode, allow_pickle, fix_imports, encoding)\u001b[0m\n\u001b[1;32m    388\u001b[0m     own_fid \u001b[39m=\u001b[39m \u001b[39mFalse\u001b[39;00m\n\u001b[1;32m    389\u001b[0m \u001b[39melse\u001b[39;00m:\n\u001b[0;32m--> 390\u001b[0m     fid \u001b[39m=\u001b[39m stack\u001b[39m.\u001b[39menter_context(\u001b[39mopen\u001b[39;49m(os_fspath(file), \u001b[39m\"\u001b[39;49m\u001b[39mrb\u001b[39;49m\u001b[39m\"\u001b[39;49m))\n\u001b[1;32m    391\u001b[0m     own_fid \u001b[39m=\u001b[39m \u001b[39mTrue\u001b[39;00m\n\u001b[1;32m    393\u001b[0m \u001b[39m# Code to distinguish from NumPy binary files and pickles.\u001b[39;00m\n",
      "\u001b[0;31mFileNotFoundError\u001b[0m: [Errno 2] No such file or directory: 'input100sample100std_w10.3std_w20.9.npz'"
     ]
    }
   ],
   "source": [
    "import numpy as np\n",
    "name_str='input100sample{}std_w1{}std_w2{}.npz'\n",
    "\n",
    "w2_std=0.9\n",
    "w1_std_list=[0.1,0.2,0.3,0.4,0.5,0.6,0.7,0.8,0.9]\n",
    "sample_index_list = range(50,150,10)\n",
    "\n",
    "for sample_index in sample_index_list:\n",
    "    for w1_std in w1_std_list:\n",
    "        name_now=name_str.format(sample_index, w1_std,w2_std)\n",
    "        data=np.load(name_now)\n",
    "\n",
    "        print(data['std_w1_list'])\n",
    "        "
   ]
  },
  {
   "cell_type": "code",
   "execution_count": null,
   "metadata": {},
   "outputs": [],
   "source": []
  }
 ],
 "metadata": {
  "kernelspec": {
   "display_name": "Python 3.10.6 ('spytorch')",
   "language": "python",
   "name": "python3"
  },
  "language_info": {
   "codemirror_mode": {
    "name": "ipython",
    "version": 3
   },
   "file_extension": ".py",
   "mimetype": "text/x-python",
   "name": "python",
   "nbconvert_exporter": "python",
   "pygments_lexer": "ipython3",
   "version": "3.10.6"
  },
  "orig_nbformat": 4,
  "vscode": {
   "interpreter": {
    "hash": "f51df8c237cfff43f594d2cbd3826b4705755914f532f86790fe777fc6074838"
   }
  }
 },
 "nbformat": 4,
 "nbformat_minor": 2
}
