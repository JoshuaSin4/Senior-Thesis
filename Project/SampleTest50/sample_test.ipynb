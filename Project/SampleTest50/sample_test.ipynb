{
 "cells": [
  {
   "cell_type": "code",
   "execution_count": 1,
   "metadata": {},
   "outputs": [],
   "source": [
    "import numpy as np"
   ]
  },
  {
   "cell_type": "code",
   "execution_count": 2,
   "metadata": {},
   "outputs": [
    {
     "ename": "FileNotFoundError",
     "evalue": "[Errno 2] No such file or directory: 'input50sample120.npz'",
     "output_type": "error",
     "traceback": [
      "\u001b[1;31m---------------------------------------------------------------------------\u001b[0m",
      "\u001b[1;31mFileNotFoundError\u001b[0m                         Traceback (most recent call last)",
      "\u001b[1;32mc:\\Users\\Joshua\\Senior-Thesis\\Project\\SampleTest50\\sample_test.ipynb Cell 2\u001b[0m in \u001b[0;36m<cell line: 8>\u001b[1;34m()\u001b[0m\n\u001b[0;32m      <a href='vscode-notebook-cell:/c%3A/Users/Joshua/Senior-Thesis/Project/SampleTest50/sample_test.ipynb#W1sZmlsZQ%3D%3D?line=5'>6</a>\u001b[0m sample6\u001b[39m=\u001b[39mnp\u001b[39m.\u001b[39mload(\u001b[39m'\u001b[39m\u001b[39minput50sample100.npz\u001b[39m\u001b[39m'\u001b[39m)\n\u001b[0;32m      <a href='vscode-notebook-cell:/c%3A/Users/Joshua/Senior-Thesis/Project/SampleTest50/sample_test.ipynb#W1sZmlsZQ%3D%3D?line=6'>7</a>\u001b[0m sample7\u001b[39m=\u001b[39mnp\u001b[39m.\u001b[39mload(\u001b[39m'\u001b[39m\u001b[39minput50sample110.npz\u001b[39m\u001b[39m'\u001b[39m)\n\u001b[1;32m----> <a href='vscode-notebook-cell:/c%3A/Users/Joshua/Senior-Thesis/Project/SampleTest50/sample_test.ipynb#W1sZmlsZQ%3D%3D?line=7'>8</a>\u001b[0m sample8\u001b[39m=\u001b[39mnp\u001b[39m.\u001b[39;49mload(\u001b[39m'\u001b[39;49m\u001b[39minput50sample120.npz\u001b[39;49m\u001b[39m'\u001b[39;49m)\n\u001b[0;32m      <a href='vscode-notebook-cell:/c%3A/Users/Joshua/Senior-Thesis/Project/SampleTest50/sample_test.ipynb#W1sZmlsZQ%3D%3D?line=8'>9</a>\u001b[0m sample9\u001b[39m=\u001b[39mnp\u001b[39m.\u001b[39mload(\u001b[39m'\u001b[39m\u001b[39minput50sample130.npz\u001b[39m\u001b[39m'\u001b[39m)\n\u001b[0;32m     <a href='vscode-notebook-cell:/c%3A/Users/Joshua/Senior-Thesis/Project/SampleTest50/sample_test.ipynb#W1sZmlsZQ%3D%3D?line=9'>10</a>\u001b[0m sample10\u001b[39m=\u001b[39mnp\u001b[39m.\u001b[39mload(\u001b[39m'\u001b[39m\u001b[39minput50sample140.npz\u001b[39m\u001b[39m'\u001b[39m)\n",
      "File \u001b[1;32mc:\\Users\\Joshua\\anaconda3\\envs\\spytorch\\lib\\site-packages\\numpy\\lib\\npyio.py:390\u001b[0m, in \u001b[0;36mload\u001b[1;34m(file, mmap_mode, allow_pickle, fix_imports, encoding)\u001b[0m\n\u001b[0;32m    388\u001b[0m     own_fid \u001b[39m=\u001b[39m \u001b[39mFalse\u001b[39;00m\n\u001b[0;32m    389\u001b[0m \u001b[39melse\u001b[39;00m:\n\u001b[1;32m--> 390\u001b[0m     fid \u001b[39m=\u001b[39m stack\u001b[39m.\u001b[39menter_context(\u001b[39mopen\u001b[39;49m(os_fspath(file), \u001b[39m\"\u001b[39;49m\u001b[39mrb\u001b[39;49m\u001b[39m\"\u001b[39;49m))\n\u001b[0;32m    391\u001b[0m     own_fid \u001b[39m=\u001b[39m \u001b[39mTrue\u001b[39;00m\n\u001b[0;32m    393\u001b[0m \u001b[39m# Code to distinguish from NumPy binary files and pickles.\u001b[39;00m\n",
      "\u001b[1;31mFileNotFoundError\u001b[0m: [Errno 2] No such file or directory: 'input50sample120.npz'"
     ]
    }
   ],
   "source": [
    "sample1=np.load('input50sample50.npz')\n",
    "sample2=np.load('input50sample60.npz')\n",
    "sample3=np.load('input50sample70.npz')\n",
    "sample4=np.load('input50sample80.npz')\n",
    "sample5=np.load('input50sample90.npz')\n",
    "sample6=np.load('input50sample100.npz')\n",
    "sample7=np.load('input50sample110.npz')\n",
    "sample8=np.load('input50sample120.npz')\n",
    "sample9=np.load('input50sample130.npz')\n",
    "sample10=np.load('input50sample140.npz')\n",
    "\n",
    "\n"
   ]
  },
  {
   "cell_type": "code",
   "execution_count": null,
   "metadata": {},
   "outputs": [],
   "source": [
    "index_list = [np.argmax(sample1['acc_list']),np.argmax(sample2['acc_list']),np.argmax(sample3['acc_list']),np.argmax(sample4['acc_list']),np.argmax(sample5['acc_list']),np.argmax(sample6['acc_list']),np.argmax(sample7['acc_list']),np.argmax(sample8['acc_list']),np.argmax(sample9['acc_list']),np.argmax(sample10['acc_list'])]\n",
    "sample_w1 = [sample1['std_w1_list'],sample2['std_w1_list'],sample3['std_w1_list'],sample4['std_w1_list'],sample5['std_w1_list'],sample6['std_w1_list'],sample7['std_w1_list'],sample8['std_w1_list'],sample9['std_w1_list'],sample10['std_w1_list'] ]\n",
    "sample_w2 = [sample1['std_w2_list'],sample2['std_w2_list'],sample3['std_w2_list'],sample4['std_w2_list'],sample5['std_w2_list'],sample6['std_w2_list'],sample7['std_w2_list'],sample8['std_w2_list'],sample9['std_w2_list'],sample10['std_w2_list'] ]\n",
    "\n",
    "best_std_w1_list = []\n",
    "best_std_w2_list  = []\n",
    "for (sample,sample_2,index) in zip(sample_w1, sample_w2,index_list):\n",
    "    best_std_w1_list = np.append(sample[index],best_std_w1_list)\n",
    "    best_std_w2_list = np.append(sample_2[index],best_std_w2_list)\n"
   ]
  },
  {
   "cell_type": "code",
   "execution_count": null,
   "metadata": {},
   "outputs": [],
   "source": [
    "best_std_w1_list"
   ]
  },
  {
   "cell_type": "code",
   "execution_count": null,
   "metadata": {},
   "outputs": [],
   "source": [
    "best_std_w2_list"
   ]
  },
  {
   "cell_type": "code",
   "execution_count": null,
   "metadata": {},
   "outputs": [],
   "source": [
    "mean_std_w1 = np.mean(best_std_w1_list/0.3445)"
   ]
  },
  {
   "cell_type": "code",
   "execution_count": null,
   "metadata": {},
   "outputs": [],
   "source": [
    "std_std_w1 = np.std(best_std_w1_list/0.3445)"
   ]
  },
  {
   "cell_type": "code",
   "execution_count": null,
   "metadata": {},
   "outputs": [],
   "source": [
    "mean_std_w2 = np.mean(best_std_w2_list/0.3445)"
   ]
  },
  {
   "cell_type": "code",
   "execution_count": null,
   "metadata": {},
   "outputs": [],
   "source": [
    "std_std_w2 = np.std(best_std_w2_list/0.3445)"
   ]
  },
  {
   "cell_type": "code",
   "execution_count": null,
   "metadata": {},
   "outputs": [],
   "source": [
    "sample1['nb_inputs'][0]"
   ]
  },
  {
   "cell_type": "code",
   "execution_count": null,
   "metadata": {},
   "outputs": [],
   "source": [
    "import matplotlib.pyplot as plt\n",
    "\n",
    "fig, ax = plt.subplots()\n",
    "ax.set_xlabel(\"Number of Input Neurons\")\n",
    "ax.set_ylabel(\"Standard Deviation of W1\")\n",
    "ax.set_title(\"Standard Deviation of W1 vs. Input Neurons\")\n",
    "ax.scatter(sample1['nb_inputs'][0], mean_std_w1/0.3445)\n",
    "ax.errorbar(sample1['nb_inputs'][0], mean_std_w1/0.3445, std_std_w1, color = \"k\", capsize=10.0 )\n",
    "fig.savefig(\"200inputsStdDevofW1.png\")"
   ]
  },
  {
   "cell_type": "code",
   "execution_count": null,
   "metadata": {},
   "outputs": [],
   "source": [
    "import matplotlib.pyplot as plt\n",
    "\n",
    "fig, ax = plt.subplots()\n",
    "ax.set_xlabel(\"Number of Input Neurons\")\n",
    "ax.set_ylabel(\"Standard Deviation of W2\")\n",
    "ax.set_title(\"Standard Deviation of W2 vs. Input Neurons\")\n",
    "ax.scatter(sample1['nb_inputs'][0], mean_std_w2/0.3445)\n",
    "ax.errorbar(sample1['nb_inputs'][0], mean_std_w2/0.3445, std_std_w2, color = \"k\", capsize=10.0 )\n",
    "fig.savefig(\"200inputsStdDevofW2.png\")"
   ]
  }
 ],
 "metadata": {
  "kernelspec": {
   "display_name": "Python 3.10.6 ('spytorch')",
   "language": "python",
   "name": "python3"
  },
  "language_info": {
   "codemirror_mode": {
    "name": "ipython",
    "version": 3
   },
   "file_extension": ".py",
   "mimetype": "text/x-python",
   "name": "python",
   "nbconvert_exporter": "python",
   "pygments_lexer": "ipython3",
   "version": "3.10.6"
  },
  "orig_nbformat": 4,
  "vscode": {
   "interpreter": {
    "hash": "52ec9f306cb174aaf197689726a8985e8278479c9540f482098016d602d93a68"
   }
  }
 },
 "nbformat": 4,
 "nbformat_minor": 2
}
