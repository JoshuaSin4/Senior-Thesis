{
 "cells": [
  {
   "cell_type": "code",
   "execution_count": 43,
   "metadata": {},
   "outputs": [],
   "source": [
    "import numpy as np"
   ]
  },
  {
   "cell_type": "code",
   "execution_count": 44,
   "metadata": {},
   "outputs": [
    {
     "data": {
      "text/plain": [
       "array([0.54340494, 0.27836939, 0.42451759, 0.84477613, 0.00471886])"
      ]
     },
     "execution_count": 44,
     "metadata": {},
     "output_type": "execute_result"
    }
   ],
   "source": [
    "np.random.seed(100)\n",
    "np.random.rand(5)"
   ]
  },
  {
   "cell_type": "code",
   "execution_count": 45,
   "metadata": {},
   "outputs": [
    {
     "data": {
      "text/plain": [
       "\"saving={}\\nacc_list=[1,2,3,4]\\nstd_list=[0,3,4,5]\\nsaving['acc_list']=acc_list\\nsaving['std_list']=std_list\\n\\nnp.savez('result',**saving)\""
      ]
     },
     "execution_count": 45,
     "metadata": {},
     "output_type": "execute_result"
    }
   ],
   "source": [
    "'''saving={}\n",
    "acc_list=[1,2,3,4]\n",
    "std_list=[0,3,4,5]\n",
    "saving['acc_list']=acc_list\n",
    "saving['std_list']=std_list\n",
    "\n",
    "np.savez('result',**saving)'''"
   ]
  },
  {
   "cell_type": "code",
   "execution_count": 46,
   "metadata": {},
   "outputs": [
    {
     "name": "stdout",
     "output_type": "stream",
     "text": [
      "acc_list\n",
      "std_w1_list\n",
      "std_w2_list\n",
      "sample_list\n"
     ]
    }
   ],
   "source": [
    "data=np.load('result.npz')\n",
    "for key in data.keys():\n",
    "    print(key)\n"
   ]
  },
  {
   "cell_type": "code",
   "execution_count": 47,
   "metadata": {},
   "outputs": [],
   "source": [
    "data2 = np.load('result.npz')"
   ]
  },
  {
   "cell_type": "code",
   "execution_count": 48,
   "metadata": {},
   "outputs": [
    {
     "data": {
      "text/plain": [
       "array([0.98046875, 0.91015625, 0.9765625 , 0.94140625, 0.96875   ,\n",
       "       0.97265625, 0.984375  , 0.91796875, 0.9921875 , 0.9921875 ,\n",
       "       0.8828125 ])"
      ]
     },
     "execution_count": 48,
     "metadata": {},
     "output_type": "execute_result"
    }
   ],
   "source": [
    "data2['acc_list']"
   ]
  },
  {
   "cell_type": "code",
   "execution_count": 49,
   "metadata": {},
   "outputs": [
    {
     "data": {
      "text/plain": [
       "array([150., 140., 130., 120., 110., 100.,  90.,  80.,  70.,  60.,  50.])"
      ]
     },
     "execution_count": 49,
     "metadata": {},
     "output_type": "execute_result"
    }
   ],
   "source": [
    "data2['sample_list']"
   ]
  },
  {
   "cell_type": "code",
   "execution_count": 50,
   "metadata": {},
   "outputs": [
    {
     "data": {
      "text/plain": [
       "array([0.09318547, 0.16577876, 0.06661381, 0.06661381, 0.07064382,\n",
       "       0.12922294, 0.08630296, 0.15483945, 0.07064382, 0.08961248,\n",
       "       0.19300574])"
      ]
     },
     "execution_count": 50,
     "metadata": {},
     "output_type": "execute_result"
    }
   ],
   "source": [
    "data2['std_w1_list']"
   ]
  },
  {
   "cell_type": "code",
   "execution_count": 51,
   "metadata": {},
   "outputs": [
    {
     "data": {
      "text/plain": [
       "array([0.46592735, 0.82889379, 0.33306904, 0.33306904, 0.35321911,\n",
       "       0.64611468, 0.4315148 , 0.77419726, 0.35321911, 0.4480624 ,\n",
       "       0.96502868])"
      ]
     },
     "execution_count": 51,
     "metadata": {},
     "output_type": "execute_result"
    }
   ],
   "source": [
    "data2['std_w2_list']"
   ]
  },
  {
   "cell_type": "code",
   "execution_count": 52,
   "metadata": {},
   "outputs": [
    {
     "data": {
      "text/plain": [
       "ValuesView(<numpy.lib.npyio.NpzFile object at 0x000001375B972200>)"
      ]
     },
     "execution_count": 52,
     "metadata": {},
     "output_type": "execute_result"
    }
   ],
   "source": [
    "data.values()"
   ]
  },
  {
   "cell_type": "code",
   "execution_count": 53,
   "metadata": {},
   "outputs": [
    {
     "data": {
      "text/plain": [
       "ItemsView(<numpy.lib.npyio.NpzFile object at 0x000001375B972200>)"
      ]
     },
     "execution_count": 53,
     "metadata": {},
     "output_type": "execute_result"
    }
   ],
   "source": [
    "data.items()"
   ]
  },
  {
   "cell_type": "code",
   "execution_count": 54,
   "metadata": {},
   "outputs": [],
   "source": [
    "std_w1_mean_data_1 = np.mean(data['std_w1_list'])\n",
    "std_w1_mean_data_2 = np.mean(data2['std_w1_list'])"
   ]
  },
  {
   "cell_type": "code",
   "execution_count": 55,
   "metadata": {},
   "outputs": [],
   "source": [
    "std_w2_mean_data_1 = np.mean(data['std_w2_list'])\n",
    "std_w2_mean_data_2 = np.mean(data2['std_w2_list'])"
   ]
  },
  {
   "cell_type": "code",
   "execution_count": 56,
   "metadata": {},
   "outputs": [],
   "source": [
    "std_w1_std_data_1 = np.std(data['std_w1_list'])\n",
    "std_w1_std_data_2 = np.std(data2['std_w1_list'])"
   ]
  },
  {
   "cell_type": "code",
   "execution_count": 57,
   "metadata": {},
   "outputs": [],
   "source": [
    "std_w2_std_data_1 = np.std(data['std_w2_list'])\n",
    "std_w2_std_data_2 = np.std(data2['std_w2_list'])"
   ]
  },
  {
   "cell_type": "code",
   "execution_count": 58,
   "metadata": {},
   "outputs": [],
   "source": [
    "import matplotlib.pyplot as plt"
   ]
  },
  {
   "cell_type": "code",
   "execution_count": 59,
   "metadata": {},
   "outputs": [],
   "source": [
    "normalized_std_w1_mean_data_1 = std_w1_mean_data_1/0.3445\n",
    "normalized_std_w1_mean_data_2 = std_w1_mean_data_2/0.3445"
   ]
  },
  {
   "cell_type": "code",
   "execution_count": 60,
   "metadata": {},
   "outputs": [],
   "source": [
    "normalized_std_w2_mean_std_data_1 = std_w2_mean_data_1/0.3445\n",
    "normalized_std_w2_mean_std_data_2 = std_w2_mean_data_2/0.3445"
   ]
  },
  {
   "cell_type": "code",
   "execution_count": 61,
   "metadata": {},
   "outputs": [
    {
     "data": {
      "image/png": "[encoded data removed]",
      "text/plain": [
       "<Figure size 640x480 with 1 Axes>"
      ]
     },
     "metadata": {},
     "output_type": "display_data"
    }
   ],
   "source": [
    "fig, ax = plt.subplots()\n",
    "ax.plot([100,200], [std_w1_mean_data_1,std_w1_mean_data_2] , marker = \"o\", color = \"b\")\n",
    "ax.errorbar([100,200], [std_w1_mean_data_1,std_w1_mean_data_2], yerr=[std_w1_std_data_1,std_w1_std_data_2], capsize = 10.0, fmt=\"o\", color=\"k\")\n",
    "ax.set_xlabel(\"Number of Neurons in Input Layer\")\n",
    "ax.set_ylabel(\"Standard Deviation\")\n",
    "ax.set_title(\"Standard Deviation of W1 vs. Number of Neurons in Input Layer\")\n",
    "fig.savefig('unnormalizedstdw1vsnumberofneurons2datapoints.png')"
   ]
  },
  {
   "cell_type": "code",
   "execution_count": 62,
   "metadata": {},
   "outputs": [
    {
     "data": {
      "image/png": "[encoded data removed]",
      "text/plain": [
       "<Figure size 640x480 with 1 Axes>"
      ]
     },
     "metadata": {},
     "output_type": "display_data"
    }
   ],
   "source": [
    "fig, ax = plt.subplots()\n",
    "ax.plot([100,200], [std_w2_mean_data_1 ,std_w2_mean_data_2] , marker = \"o\", color = \"b\")\n",
    "ax.errorbar([100,200], [std_w2_mean_data_1,std_w2_mean_data_2], yerr=[std_w2_std_data_1,std_w2_std_data_2], capsize = 10.0, fmt=\"o\", color=\"k\")\n",
    "ax.set_xlabel(\"Number of Neurons in Input Layer\")\n",
    "ax.set_ylabel(\"Standard Deviation\")\n",
    "ax.set_title(\"Standard Deviation of W2 vs. Number of Neurons in Input Layer\")\n",
    "fig.savefig('unnormalizedstdw2vsnumberofneurons2datapoints.png')"
   ]
  },
  {
   "cell_type": "code",
   "execution_count": 63,
   "metadata": {},
   "outputs": [
    {
     "data": {
      "text/plain": [
       "array([0.09318547, 0.16577876, 0.06661381, 0.06661381, 0.07064382,\n",
       "       0.12922294, 0.08630296, 0.15483945, 0.07064382, 0.08961248,\n",
       "       0.19300574])"
      ]
     },
     "execution_count": 63,
     "metadata": {},
     "output_type": "execute_result"
    }
   ],
   "source": [
    "data['std_w1_list']"
   ]
  },
  {
   "cell_type": "code",
   "execution_count": 64,
   "metadata": {},
   "outputs": [
    {
     "data": {
      "text/plain": [
       "array([0.46592735, 0.82889379, 0.33306904, 0.33306904, 0.35321911,\n",
       "       0.64611468, 0.4315148 , 0.77419726, 0.35321911, 0.4480624 ,\n",
       "       0.96502868])"
      ]
     },
     "execution_count": 64,
     "metadata": {},
     "output_type": "execute_result"
    }
   ],
   "source": [
    "data2['std_w2_list']"
   ]
  },
  {
   "cell_type": "code",
   "execution_count": null,
   "metadata": {},
   "outputs": [],
   "source": []
  }
 ],
 "metadata": {
  "kernelspec": {
   "display_name": "Python 3.10.6 ('spytorch')",
   "language": "python",
   "name": "python3"
  },
  "language_info": {
   "codemirror_mode": {
    "name": "ipython",
    "version": 3
   },
   "file_extension": ".py",
   "mimetype": "text/x-python",
   "name": "python",
   "nbconvert_exporter": "python",
   "pygments_lexer": "ipython3",
   "version": "3.10.6"
  },
  "orig_nbformat": 4,
  "vscode": {
   "interpreter": {
    "hash": "f51df8c237cfff43f594d2cbd3826b4705755914f532f86790fe777fc6074838"
   }
  }
 },
 "nbformat": 4,
 "nbformat_minor": 2
}
