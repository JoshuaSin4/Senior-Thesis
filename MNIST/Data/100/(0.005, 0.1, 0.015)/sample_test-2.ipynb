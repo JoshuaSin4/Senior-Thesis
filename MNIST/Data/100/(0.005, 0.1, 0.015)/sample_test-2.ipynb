{
 "cells": [
  {
   "cell_type": "code",
   "execution_count": null,
   "metadata": {},
   "outputs": [],
   "source": [
    "import numpy as np\n",
    "import matplotlib.pyplot as plt\n",
    "\n",
    "name_str='uniform-distribution-frequency-65-seed-{}.npz'\n",
    "sample_list = np.arange(1000,1100,10)\n",
    "std_w_range = np.arange(0.01,0.4,0.1)\n",
    "axis_std_w1 = np.arange(0.005, 0.1, 0.015)\n",
    "axis_std_w2 = np.arange(0.005, 0.1, 0.015)\n",
    "std_w1_axis, std_w2_axis = np.meshgrid(axis_std_w1,axis_std_w2)\n",
    "train_accuracy_10_samples = np.zeros((10,7,7))\n",
    "test_accuracy_10_samples = np.zeros((10,7,7))\n"
   ]
  },
  {
   "cell_type": "code",
   "execution_count": null,
   "metadata": {},
   "outputs": [],
   "source": [
    "test1 = np.load('uniform-distribution-frequency-65-seed-1.npz')\n",
    "print(test1['loss_hist'])"
   ]
  },
  {
   "cell_type": "code",
   "execution_count": null,
   "metadata": {
    "tags": []
   },
   "outputs": [],
   "source": [
    "for (i,sample) in enumerate(sample_list):\n",
    "    data = np.load(name_str.format(i))\n",
    "    fig = plt.figure()\n",
    "    ax = plt.axes(projection ='3d')\n",
    "    ax.plot_surface(std_w1_axis, std_w2_axis, data['train_accuracy_w1_w2'], cmap ='coolwarm', edgecolor ='green')\n",
    "    ax.set_xlabel('std_w1')\n",
    "    ax.set_ylabel('std_w2')\n",
    "    ax.set_zlabel('train accuracy')\n",
    "    ax.set_title('Train Accuracy Sample {}'.format(sample))\n",
    "    fig.savefig(\"train_accuracy_w1_w2_sample{}.png\".format(sample))\n",
    "    for (j,std_w1) in enumerate(axis_std_w1):\n",
    "        for (k,std_w2) in enumerate(axis_std_w2):\n",
    "            train_accuracy_10_samples[i][j][k]= data['train_accuracy_w1_w2'][j][k]"
   ]
  },
  {
   "cell_type": "code",
   "execution_count": null,
   "metadata": {},
   "outputs": [],
   "source": [
    "data['train_accuracy_w1_w2'].shape"
   ]
  },
  {
   "cell_type": "code",
   "execution_count": null,
   "metadata": {},
   "outputs": [],
   "source": [
    "for (i,sample) in enumerate(sample_list):\n",
    "    data = np.load(name_str.format(i))\n",
    "    fig = plt.figure()\n",
    "    ax = plt.axes(projection ='3d')\n",
    "    ax.plot_surface(std_w1_axis, std_w2_axis, data['test_accuracy_w1_w2'], cmap ='coolwarm', edgecolor ='green')\n",
    "    ax.set_xlabel('std_w1')\n",
    "    ax.set_ylabel('std_w2')\n",
    "    ax.set_zlabel('test accuracy')\n",
    "    ax.set_title('Test Accuracy Sample {}'.format(sample))\n",
    "    fig.savefig(\"test_accuracy_w1_w2_sample{}.png\".format(sample))\n",
    "    for (j,std_w1) in enumerate(axis_std_w1):\n",
    "        for (k,std_w2) in enumerate(axis_std_w2):\n",
    "            test_accuracy_10_samples[i][j][k]= data['test_accuracy_w1_w2'][j][k]\n"
   ]
  },
  {
   "cell_type": "code",
   "execution_count": null,
   "metadata": {},
   "outputs": [],
   "source": [
    "average_train_accuracy_grid_10_by_10_10_samples = np.mean(train_accuracy_10_samples, axis=0)\n",
    "std_dev_train_accuracy_grid_10_by_10_10_samples = np.std(train_accuracy_10_samples, axis=0)"
   ]
  },
  {
   "cell_type": "code",
   "execution_count": null,
   "metadata": {},
   "outputs": [],
   "source": [
    "average_test_accuracy_grid_10_by_10_10_samples = np.mean(test_accuracy_10_samples, axis=0)\n",
    "std_dev_test_accuracy_grid_10_by_10_10_samples = np.std(test_accuracy_10_samples, axis=0)"
   ]
  },
  {
   "cell_type": "code",
   "execution_count": null,
   "metadata": {},
   "outputs": [],
   "source": [
    "train_accuracy_10_samples.shape"
   ]
  },
  {
   "cell_type": "code",
   "execution_count": null,
   "metadata": {},
   "outputs": [],
   "source": [
    "fig = plt.figure()\n",
    "ax = plt.axes(projection ='3d')\n",
    "ax.plot_surface(std_w1_axis, std_w2_axis, average_train_accuracy_grid_10_by_10_10_samples, cmap ='coolwarm', edgecolor ='green')\n",
    "ax.set_xlabel('std_w1')\n",
    "ax.set_ylabel('std_w2')\n",
    "ax.set_zlabel('train accuracy')\n",
    "ax.set_title('Average Train Accuracy')\n",
    "#ax.view_init(90,90)\n",
    "\n",
    "fig.savefig(\"average_train_accuracy_grid_over_10_samples.png\".format(sample))"
   ]
  },
  {
   "cell_type": "code",
   "execution_count": null,
   "metadata": {},
   "outputs": [],
   "source": [
    "fig = plt.figure()\n",
    "ax = plt.axes(projection ='3d')\n",
    "ax.plot_surface(std_w1_axis, std_w2_axis, average_test_accuracy_grid_10_by_10_10_samples, cmap ='coolwarm', edgecolor ='green')\n",
    "ax.set_xlabel('std_w1')\n",
    "ax.set_ylabel('std_w2')\n",
    "ax.set_zlabel('test accuracy')\n",
    "ax.set_title('Average Test Accuracy')\n",
    "#ax.view_init(90,90)\n",
    "\n",
    "fig.savefig(\"average_test_accuracy_grid_over_10_samples.png\".format(sample))"
   ]
  },
  {
   "cell_type": "code",
   "execution_count": null,
   "metadata": {},
   "outputs": [],
   "source": [
    "average_train_accuracy_grid_10_by_10_10_samples >= 0.999*np.max(average_train_accuracy_grid_10_by_10_10_samples)"
   ]
  },
  {
   "cell_type": "code",
   "execution_count": null,
   "metadata": {},
   "outputs": [],
   "source": [
    "average_test_accuracy_grid_10_by_10_10_samples >= 0.999*np.max(average_test_accuracy_grid_10_by_10_10_samples)"
   ]
  },
  {
   "cell_type": "code",
   "execution_count": null,
   "metadata": {},
   "outputs": [],
   "source": [
    "# Find the best w1, w2 given the average accuracy of the grid\n",
    "\n",
    "max_accuracy = np.max(average_train_accuracy_grid_10_by_10_10_samples)\n",
    "index_max_accuracy = np.argmax(average_train_accuracy_grid_10_by_10_10_samples)\n",
    "best_w1_w2 = np.unravel_index(index_max_accuracy, average_train_accuracy_grid_10_by_10_10_samples.shape)"
   ]
  },
  {
   "cell_type": "code",
   "execution_count": null,
   "metadata": {},
   "outputs": [],
   "source": [
    "best_w1_w2"
   ]
  },
  {
   "cell_type": "code",
   "execution_count": null,
   "metadata": {},
   "outputs": [],
   "source": [
    "# Find the best w1, w2 given the average accuracy of the grid\n",
    "\n",
    "max_accuracy = np.max(average_test_accuracy_grid_10_by_10_10_samples)\n",
    "index_max_accuracy = np.argmax(average_test_accuracy_grid_10_by_10_10_samples)\n",
    "test_best_w1_w2 = np.unravel_index(index_max_accuracy, average_test_accuracy_grid_10_by_10_10_samples.shape)"
   ]
  },
  {
   "cell_type": "code",
   "execution_count": null,
   "metadata": {},
   "outputs": [],
   "source": [
    "test_best_w1_w2"
   ]
  },
  {
   "cell_type": "code",
   "execution_count": null,
   "metadata": {},
   "outputs": [],
   "source": [
    "best_w1_best_w2 = np.array(best_w1_w2)*0.015+0.005"
   ]
  },
  {
   "cell_type": "code",
   "execution_count": null,
   "metadata": {},
   "outputs": [],
   "source": [
    "test_best_w1_best_w2 = np.array(test_best_w1_w2)*0.015+0.005"
   ]
  },
  {
   "cell_type": "code",
   "execution_count": null,
   "metadata": {},
   "outputs": [],
   "source": [
    "best_w1_best_w2"
   ]
  },
  {
   "cell_type": "code",
   "execution_count": null,
   "metadata": {},
   "outputs": [],
   "source": [
    "test_best_w1_best_w2"
   ]
  },
  {
   "cell_type": "code",
   "execution_count": null,
   "metadata": {},
   "outputs": [],
   "source": [
    "fig1, ax1 = plt.subplots()\n",
    "ax1.scatter(100, test_best_w1_best_w2[0]/0.3445, color=\"k\")\n",
    "ax1.errorbar(100, test_best_w1_best_w2[0]/0.3445, 0.015, capsize = 10.0, color= \"k\")\n",
    "ax1.set_xlabel(\"Number of Hidden Neurons (N)\")\n",
    "ax1.set_ylabel(\"Standard Deviation of W1\")\n",
    "fig1.savefig(\"Test_W1_vs_N.png\")"
   ]
  },
  {
   "cell_type": "code",
   "execution_count": null,
   "metadata": {},
   "outputs": [],
   "source": [
    "fig2, ax2 = plt.subplots()\n",
    "ax2.scatter(100, test_best_w1_best_w2[1]/0.3445, color=\"k\")\n",
    "ax2.errorbar(100, test_best_w1_best_w2[1]/0.3445, 0.015, capsize = 10.0, color= \"k\")\n",
    "ax2.set_xlabel(\"Number of Hidden Neurons (N)\")\n",
    "ax2.set_ylabel(\"Standard Deviation of W2\")\n",
    "fig2.savefig(\"Test_W2_vs_N.png\")"
   ]
  },
  {
   "cell_type": "code",
   "execution_count": null,
   "metadata": {},
   "outputs": [],
   "source": [
    "data = {}\n",
    "data['frequency'] = 65\n",
    "data['N'] = 100\n",
    "data['accuracy'] = max_accuracy\n",
    "data['w1'] = best_w1_best_w2[0]/0.3445\n",
    "data['error_bar_w1'] = 4*0.015\n",
    "data['w2'] = best_w1_best_w2[1]/0.3445\n",
    "data['error_bar_w2'] = 3*0.015\n",
    "np.savez(\"train_accuracy_65_frequency_neurons_w1_w2.npz\",**data)"
   ]
  },
  {
   "cell_type": "code",
   "execution_count": null,
   "metadata": {
    "tags": []
   },
   "outputs": [],
   "source": [
    "data = {}\n",
    "data['frequency'] = 65\n",
    "data['N'] = 100\n",
    "data['accuracy'] = max_accuracy\n",
    "data['w1'] = test_best_w1_best_w2[0]/0.3445\n",
    "data['error_bar_w1'] = 0.015\n",
    "data['w2'] = test_best_w1_best_w2[1]/0.3445\n",
    "data['error_bar_w2'] = 0.015\n",
    "np.savez(\"test_accuracy_65_frequency_neurons_w1_w2.npz\",**data)"
   ]
  }
 ],
 "metadata": {
  "kernelspec": {
   "display_name": "base",
   "language": "python",
   "name": "python3"
  },
  "language_info": {
   "codemirror_mode": {
    "name": "ipython",
    "version": 3
   },
   "file_extension": ".py",
   "mimetype": "text/x-python",
   "name": "python",
   "nbconvert_exporter": "python",
   "pygments_lexer": "ipython3",
   "version": "3.9.13"
  },
  "vscode": {
   "interpreter": {
    "hash": "52a0e7b4f4c9b93c7568b039447b72228aa9ad72b6466ebee46731f7fd73c837"
   }
  }
 },
 "nbformat": 4,
 "nbformat_minor": 4
}
