{
 "cells": [
  {
   "cell_type": "code",
   "execution_count": 1,
   "metadata": {},
   "outputs": [],
   "source": [
    "import numpy as np\n",
    "import matplotlib.pyplot as plt\n",
    "\n",
    "name_str='normal-distribution-frequency-66.25537109375-sample-{}.npz'\n",
    "sample_list = np.arange(0,10,1)\n",
    "std_w_range = np.arange(0,1,0.1)\n",
    "axis_std_w1 = np.arange(0.01, 0.02, 0.01)\n",
    "axis_std_w2 = np.arange(0.01, 0.02, 0.01)\n",
    "std_w1_axis, std_w2_axis = np.meshgrid(axis_std_w1,axis_std_w2)\n",
    "train_accuracy_10_samples = np.zeros((10,1,1))\n",
    "test_accuracy_10_samples = np.zeros((10,1,1))\n"
   ]
  },
  {
   "cell_type": "code",
   "execution_count": 2,
   "metadata": {},
   "outputs": [
    {
     "ename": "FileNotFoundError",
     "evalue": "[Errno 2] No such file or directory: 'normal-distribution-frequency-66.25537109375-sample-1000.npz'",
     "output_type": "error",
     "traceback": [
      "\u001b[1;31m---------------------------------------------------------------------------\u001b[0m",
      "\u001b[1;31mFileNotFoundError\u001b[0m                         Traceback (most recent call last)",
      "\u001b[1;32mc:\\Users\\Joshua\\Senior-Thesis\\Pooling-Data\\sample_test.ipynb Cell 2\u001b[0m in \u001b[0;36m<cell line: 1>\u001b[1;34m()\u001b[0m\n\u001b[0;32m      <a href='vscode-notebook-cell:/c%3A/Users/Joshua/Senior-Thesis/Pooling-Data/sample_test.ipynb#X16sZmlsZQ%3D%3D?line=0'>1</a>\u001b[0m \u001b[39mfor\u001b[39;00m (i,sample) \u001b[39min\u001b[39;00m \u001b[39menumerate\u001b[39m(sample_list):\n\u001b[1;32m----> <a href='vscode-notebook-cell:/c%3A/Users/Joshua/Senior-Thesis/Pooling-Data/sample_test.ipynb#X16sZmlsZQ%3D%3D?line=1'>2</a>\u001b[0m     data \u001b[39m=\u001b[39m np\u001b[39m.\u001b[39;49mload(name_str\u001b[39m.\u001b[39;49mformat(sample))\n\u001b[0;32m      <a href='vscode-notebook-cell:/c%3A/Users/Joshua/Senior-Thesis/Pooling-Data/sample_test.ipynb#X16sZmlsZQ%3D%3D?line=2'>3</a>\u001b[0m     fig \u001b[39m=\u001b[39m plt\u001b[39m.\u001b[39mfigure()\n\u001b[0;32m      <a href='vscode-notebook-cell:/c%3A/Users/Joshua/Senior-Thesis/Pooling-Data/sample_test.ipynb#X16sZmlsZQ%3D%3D?line=3'>4</a>\u001b[0m     ax \u001b[39m=\u001b[39m plt\u001b[39m.\u001b[39maxes(projection \u001b[39m=\u001b[39m\u001b[39m'\u001b[39m\u001b[39m3d\u001b[39m\u001b[39m'\u001b[39m)\n",
      "File \u001b[1;32mc:\\Users\\Joshua\\anaconda3\\envs\\spytorch\\lib\\site-packages\\numpy\\lib\\npyio.py:390\u001b[0m, in \u001b[0;36mload\u001b[1;34m(file, mmap_mode, allow_pickle, fix_imports, encoding)\u001b[0m\n\u001b[0;32m    388\u001b[0m     own_fid \u001b[39m=\u001b[39m \u001b[39mFalse\u001b[39;00m\n\u001b[0;32m    389\u001b[0m \u001b[39melse\u001b[39;00m:\n\u001b[1;32m--> 390\u001b[0m     fid \u001b[39m=\u001b[39m stack\u001b[39m.\u001b[39menter_context(\u001b[39mopen\u001b[39;49m(os_fspath(file), \u001b[39m\"\u001b[39;49m\u001b[39mrb\u001b[39;49m\u001b[39m\"\u001b[39;49m))\n\u001b[0;32m    391\u001b[0m     own_fid \u001b[39m=\u001b[39m \u001b[39mTrue\u001b[39;00m\n\u001b[0;32m    393\u001b[0m \u001b[39m# Code to distinguish from NumPy binary files and pickles.\u001b[39;00m\n",
      "\u001b[1;31mFileNotFoundError\u001b[0m: [Errno 2] No such file or directory: 'normal-distribution-frequency-66.25537109375-sample-1000.npz'"
     ]
    }
   ],
   "source": [
    "for (i,sample) in enumerate(sample_list):\n",
    "    data = np.load(name_str.format(sample))\n",
    "    fig = plt.figure()\n",
    "    ax = plt.axes(projection ='3d')\n",
    "    ax.plot_surface(std_w1_axis, std_w2_axis, data['train_accuracy_w1_w2'].T, cmap ='coolwarm', edgecolor ='green')\n",
    "    ax.set_xlabel('std_w1')\n",
    "    ax.set_ylabel('std_w2')\n",
    "    ax.set_zlabel('train accuracy')\n",
    "    ax.set_title('Train Accuracy Sample {}'.format(sample))\n",
    "    fig.savefig(\"train_accuracy_w1_w2_sample{}.png\".format(sample))\n",
    "    for (j,std_w1) in enumerate(axis_std_w1):\n",
    "        for (k,std_w2) in enumerate(axis_std_w2):\n",
    "            train_accuracy_10_samples[i][j][k]= data['train_accuracy_w1_w2'][j][k]"
   ]
  },
  {
   "cell_type": "code",
   "execution_count": null,
   "metadata": {},
   "outputs": [],
   "source": [
    "for (i,sample) in enumerate(sample_list):\n",
    "    data = np.load(name_str.format(sample))\n",
    "    fig = plt.figure()\n",
    "    ax = plt.axes(projection ='3d')\n",
    "    ax.plot_surface(std_w1_axis, std_w2_axis, data['test_accuracy_w1_w2'].T, cmap ='coolwarm', edgecolor ='green')\n",
    "    ax.set_xlabel('std_w1')\n",
    "    ax.set_ylabel('std_w2')\n",
    "    ax.set_zlabel('test accuracy')\n",
    "    ax.set_title('Test Accuracy Sample {}'.format(sample))\n",
    "    fig.savefig(\"test_accuracy_w1_w2_sample{}.png\".format(sample))\n",
    "    for (j,std_w1) in enumerate(axis_std_w1):\n",
    "        for (k,std_w2) in enumerate(axis_std_w2):\n",
    "            test_accuracy_10_samples[i][j][k]= data['test_accuracy_w1_w2'][j][k]\n"
   ]
  },
  {
   "cell_type": "code",
   "execution_count": null,
   "metadata": {},
   "outputs": [],
   "source": [
    "average_train_accuracy_grid_10_by_10_10_samples = np.mean(train_accuracy_10_samples, axis=0)\n",
    "average_train_accuracy_grid_10_by_10_10_samples"
   ]
  },
  {
   "cell_type": "code",
   "execution_count": null,
   "metadata": {},
   "outputs": [],
   "source": [
    "average_test_accuracy_grid_10_by_10_10_samples = np.mean(test_accuracy_10_samples, axis=0)\n",
    "average_test_accuracy_grid_10_by_10_10_samples"
   ]
  },
  {
   "cell_type": "code",
   "execution_count": null,
   "metadata": {},
   "outputs": [],
   "source": [
    "fig = plt.figure()\n",
    "ax = plt.axes(projection ='3d')\n",
    "ax.plot_surface(std_w1_axis, std_w2_axis, average_train_accuracy_grid_10_by_10_10_samples.T, cmap ='coolwarm', edgecolor ='green')\n",
    "ax.set_xlabel('std_w1')\n",
    "ax.set_ylabel('std_w2')\n",
    "ax.set_zlabel('train accuracy')\n",
    "ax.set_title('Average Train Accuracy')\n",
    "fig.savefig(\"average_train_accuracy_grid_over_10_samples.png\".format(sample))\n"
   ]
  },
  {
   "cell_type": "code",
   "execution_count": null,
   "metadata": {},
   "outputs": [],
   "source": [
    "fig = plt.figure()\n",
    "ax = plt.axes(projection ='3d')\n",
    "ax.plot_surface(std_w1_axis, std_w2_axis, average_test_accuracy_grid_10_by_10_10_samples.T, cmap ='coolwarm', edgecolor ='green')\n",
    "ax.set_xlabel('std_w1')\n",
    "ax.set_ylabel('std_w2')\n",
    "ax.set_zlabel('test accuracy')\n",
    "ax.set_title('Average Test Accuracy')\n",
    "fig.savefig(\"average_test_accuracy_grid_over_10_samples.png\".format(sample))"
   ]
  },
  {
   "cell_type": "code",
   "execution_count": null,
   "metadata": {},
   "outputs": [],
   "source": [
    "# Find the best w1, w2 given the average accuracy of the grid\n",
    "\n",
    "max_accuracy = np.max(average_train_accuracy_grid_10_by_10_10_samples*100)\n",
    "index_max_accuracy = np.argmax(average_train_accuracy_grid_10_by_10_10_samples)\n",
    "best_w1_w2 = np.unravel_index(index_max_accuracy, average_train_accuracy_grid_10_by_10_10_samples.shape)"
   ]
  },
  {
   "cell_type": "code",
   "execution_count": null,
   "metadata": {},
   "outputs": [],
   "source": [
    "best_w1_w2"
   ]
  },
  {
   "cell_type": "code",
   "execution_count": null,
   "metadata": {},
   "outputs": [],
   "source": [
    "# Find the best w1, w2 given the average accuracy of the grid\n",
    "\n",
    "max_accuracy = np.max(average_test_accuracy_grid_10_by_10_10_samples*100)\n",
    "index_max_accuracy = np.argmax(average_test_accuracy_grid_10_by_10_10_samples)\n",
    "test_best_w1_w2 = np.unravel_index(index_max_accuracy, average_test_accuracy_grid_10_by_10_10_samples.shape)"
   ]
  },
  {
   "cell_type": "code",
   "execution_count": null,
   "metadata": {},
   "outputs": [],
   "source": [
    "test_best_w1_w2"
   ]
  },
  {
   "cell_type": "code",
   "execution_count": null,
   "metadata": {},
   "outputs": [],
   "source": [
    "array_best_w1_best_w2 = np.array(best_w1_w2)*0.1"
   ]
  },
  {
   "cell_type": "code",
   "execution_count": null,
   "metadata": {},
   "outputs": [],
   "source": [
    "average_train_accuracy_grid_10_by_10_10_samples[0]"
   ]
  },
  {
   "cell_type": "code",
   "execution_count": null,
   "metadata": {},
   "outputs": [],
   "source": [
    "average_train_accuracy_grid_10_by_10_10_samples[:,2]"
   ]
  },
  {
   "cell_type": "code",
   "execution_count": null,
   "metadata": {},
   "outputs": [],
   "source": [
    "# Find the std of w1 with constant w2 and std of w2 with constant w1\n",
    "std_dev_w1 = np.std(average_train_accuracy_grid_10_by_10_10_samples[2])\n",
    "std_dev_w2 = np.std(average_train_accuracy_grid_10_by_10_10_samples[:,0])"
   ]
  },
  {
   "cell_type": "code",
   "execution_count": null,
   "metadata": {},
   "outputs": [],
   "source": [
    "# Find the std of w1 with constant w2 and std of w2 with constant w1\n",
    "test_std_dev_w1 = np.std(average_test_accuracy_grid_10_by_10_10_samples[1])\n",
    "test_std_dev_w2 = np.std(average_test_accuracy_grid_10_by_10_10_samples[:,3])"
   ]
  },
  {
   "cell_type": "code",
   "execution_count": null,
   "metadata": {},
   "outputs": [],
   "source": [
    "fig2, ax2 = plt.subplots()\n",
    "ax2.scatter(130, array_best_w1_best_w2[1]/0.3445, color=\"k\")\n",
    "ax2.errorbar(130, array_best_w1_best_w2[1]/0.3445, std_dev_w2, capsize=10.0, color= \"k\")\n",
    "ax2.set_xlabel(\"Frequency (Hz)\")\n",
    "ax2.set_ylabel(\"W1\")\n",
    "fig2.savefig(\"train_accuracy_frequency130forW1.png\")"
   ]
  },
  {
   "cell_type": "code",
   "execution_count": null,
   "metadata": {},
   "outputs": [],
   "source": [
    "fig2, ax2 = plt.subplots()\n",
    "ax2.scatter(130, array_best_w1_best_w2[1]/0.3445, color=\"k\")\n",
    "ax2.errorbar(130, array_best_w1_best_w2[1]/0.3445, test_std_dev_w2, capsize=10.0, color= \"k\")\n",
    "ax2.set_xlabel(\"Frequency (Hz)\")\n",
    "ax2.set_ylabel(\"W2\")\n",
    "fig2.savefig(\"train_accuracy_frequency130forW2.png\")"
   ]
  },
  {
   "cell_type": "code",
   "execution_count": null,
   "metadata": {},
   "outputs": [],
   "source": [
    "fig2, ax2 = plt.subplots()\n",
    "ax2.scatter(450, array_best_w1_best_w2[1]/0.3445, color=\"k\")\n",
    "ax2.errorbar(450, array_best_w1_best_w2[1]/0.3445, test_std_dev_w2, capsize=10.0, color= \"k\")\n",
    "ax2.set_xlabel(\"Frequency (Hz)\")\n",
    "ax2.set_ylabel(\"W2\")\n",
    "fig2.savefig(\"train_accuracy_frequency130forW2.png\")"
   ]
  },
  {
   "cell_type": "code",
   "execution_count": null,
   "metadata": {},
   "outputs": [],
   "source": [
    "data = {}\n",
    "data['frequency'] = 130\n",
    "data['w1'] = array_best_w1_best_w2[0]/0.3445\n",
    "data['std_dev_w1_10_samples'] = std_dev_w1\n",
    "data['w2'] = array_best_w1_best_w2[1]/0.3445\n",
    "data['std_dev_w2_10_samples'] = std_dev_w2\n",
    "np.savez(\"train_accuracy_130_frequency_neurons_w1_w2.npz\",**data)"
   ]
  },
  {
   "cell_type": "code",
   "execution_count": null,
   "metadata": {},
   "outputs": [],
   "source": [
    "data = {}\n",
    "data['frequency'] = 130\n",
    "data['w1'] = array_best_w1_best_w2[0]/0.3445\n",
    "data['std_dev_w1_10_samples'] = test_std_dev_w1\n",
    "data['w2'] = array_best_w1_best_w2[1]/0.3445\n",
    "data['std_dev_w2_10_samples'] = test_std_dev_w2\n",
    "np.savez(\"test_accuracy_130_frequency_neurons_w1_w2.npz\",**data)"
   ]
  }
 ],
 "metadata": {
  "kernelspec": {
   "display_name": "spytorch",
   "language": "python",
   "name": "python3"
  },
  "language_info": {
   "codemirror_mode": {
    "name": "ipython",
    "version": 3
   },
   "file_extension": ".py",
   "mimetype": "text/x-python",
   "name": "python",
   "nbconvert_exporter": "python",
   "pygments_lexer": "ipython3",
   "version": "3.10.6"
  },
  "orig_nbformat": 4,
  "vscode": {
   "interpreter": {
    "hash": "52ec9f306cb174aaf197689726a8985e8278479c9540f482098016d602d93a68"
   }
  }
 },
 "nbformat": 4,
 "nbformat_minor": 2
}
