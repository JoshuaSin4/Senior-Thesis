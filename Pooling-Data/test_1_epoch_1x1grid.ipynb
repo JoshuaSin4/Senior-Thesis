{
 "cells": [
  {
   "cell_type": "code",
   "execution_count": 3,
   "id": "acac5900-1e7f-4f3b-9d92-61a8b01da9a9",
   "metadata": {},
   "outputs": [],
   "source": [
    "import numpy as np"
   ]
  },
  {
   "cell_type": "code",
   "execution_count": 4,
   "id": "3596effa-9afb-42ce-920f-1e29a2ecfc25",
   "metadata": {},
   "outputs": [],
   "source": [
    "data = np.load(\"normal-distribution-frequency-66.25537109375-sample-0.npz\")"
   ]
  },
  {
   "cell_type": "code",
   "execution_count": 12,
   "id": "9f9e50c4-281e-45b0-9cdd-1dd1abc460c4",
   "metadata": {},
   "outputs": [
    {
     "data": {
      "text/plain": [
       "array([[0.83779046]])"
      ]
     },
     "execution_count": 12,
     "metadata": {},
     "output_type": "execute_result"
    }
   ],
   "source": [
    "data['train_accuracy_w1_w2']"
   ]
  },
  {
   "cell_type": "code",
   "execution_count": 13,
   "id": "0995d3b6-af2b-4bbe-8fbe-61824066b761",
   "metadata": {},
   "outputs": [
    {
     "data": {
      "text/plain": [
       "array([[0.86177885]])"
      ]
     },
     "execution_count": 13,
     "metadata": {},
     "output_type": "execute_result"
    }
   ],
   "source": [
    "data['test_accuracy_w1_w2']"
   ]
  },
  {
   "cell_type": "code",
   "execution_count": null,
   "id": "311efa62-5c40-4645-8d40-0c3742c55d11",
   "metadata": {},
   "outputs": [],
   "source": []
  }
 ],
 "metadata": {
  "kernelspec": {
   "display_name": "Python 3 (ipykernel)",
   "language": "python",
   "name": "python3"
  },
  "language_info": {
   "codemirror_mode": {
    "name": "ipython",
    "version": 3
   },
   "file_extension": ".py",
   "mimetype": "text/x-python",
   "name": "python",
   "nbconvert_exporter": "python",
   "pygments_lexer": "ipython3",
   "version": "3.10.4"
  }
 },
 "nbformat": 4,
 "nbformat_minor": 5
}
